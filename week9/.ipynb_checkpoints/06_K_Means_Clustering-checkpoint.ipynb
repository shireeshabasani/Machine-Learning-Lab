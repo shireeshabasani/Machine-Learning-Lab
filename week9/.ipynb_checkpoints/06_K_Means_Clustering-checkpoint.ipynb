{
 "cells": [
  {
   "cell_type": "markdown",
   "metadata": {
    "colab_type": "text",
    "id": "view-in-github"
   },
   "source": [
    "<a href=\"https://colab.research.google.com/github/sandipanpaul21/ML-Clustering-in-Python/blob/master/06_K_Means_Clustering.ipynb\" target=\"_parent\"><img src=\"https://colab.research.google.com/assets/colab-badge.svg\" alt=\"Open In Colab\"/></a>"
   ]
  },
  {
   "cell_type": "markdown",
   "metadata": {
    "id": "MQtVEcs2DsSI"
   },
   "source": [
    "#### **K-Means Clustering**\n",
    "\n",
    "- K Means allows us to define the required number of clusters\n",
    "- Now we first start by taking an arbitrary number of k. Let’s say we take k=3 (k is choosen from **elbow method**)\n",
    "- Algorithm chooses three random points as the centroid \n",
    "- It also computes Euclidean distances from the centroid to all other data points\n",
    "- The algorithm after measuring the distances of all the data points from the centroid associates each data point with a centroid based on its proximity\n",
    "- To measure how good the three clusters are seperated, we use **Silhouette Score**\n",
    "\n",
    "#### **Elbow Method**\n",
    "- In the Elbow method, we are actually varying the number of clusters (K) from 1 – 10. For each value of K, we are calculating WCSS(Within-Cluster Sum of Square)\n",
    "- **WCSS is the sum of squared distance between each point and the centroid in a cluster**\n",
    "- WCSS value is largest when K = 1. \n",
    "\n",
    "####  **Silhouette Score**\n",
    "- Clusters are well apart from each other as the silhouette score is closer to 1\n",
    "- Silhouette Coefficient score is a metric used to calculate the goodness of a clustering technique \n",
    "- Its value ranges from -1 to 1.\n",
    "  1. **Score = 1: Means clusters are well apart** from each other and clearly distinguished.\n",
    "  2. **Score = 0: Means clusters are indifferent**, or we can say that the distance between clusters is not significant.\n",
    "  3. **Score = -1: Means clusters are assigned in the wrong way.**"
   ]
  },
  {
   "cell_type": "code",
   "execution_count": 11,
   "metadata": {
    "colab": {
     "base_uri": "https://localhost:8080/",
     "height": 76,
     "resources": {
      "http://localhost:8080/nbextensions/google.colab/files.js": {
       "data": "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",
       "headers": [
        [
         "content-type",
         "application/javascript"
        ]
       ],
       "ok": true,
       "status": 200,
       "status_text": ""
      }
     }
    },
    "id": "qcrOZvxZDrFS",
    "outputId": "93554c48-3d02-4630-94ca-8107d09ff9e1"
   },
   "outputs": [],
   "source": [
    "# Importing Libraries\n",
    "\n",
    "from sklearn import datasets,metrics\n",
    "import matplotlib.pyplot as plt\n",
    "from sklearn.cluster import KMeans\n",
    "from sklearn.datasets import load_iris\n",
    "import numpy as np\n",
    "from sklearn.metrics import silhouette_score\n",
    "import pandas as pd\n",
    "from scipy.spatial import distance # To calculate distances\n",
    " \n",
    "from IPython.display import Image\n",
    "\n",
    " "
   ]
  },
  {
   "cell_type": "code",
   "execution_count": null,
   "metadata": {
    "colab": {
     "base_uri": "https://localhost:8080/",
     "height": 335
    },
    "id": "szrQVyesRvtF",
    "outputId": "908afc7c-f4ea-4916-da55-c70f2d0ee5c4"
   },
   "outputs": [],
   "source": [
    " print('K Means ALGORITHIM STEPS :')\n",
    "Image('0232A118-EF98-410D-B996-6A0769F9712F.png',height = 300)"
   ]
  },
  {
   "cell_type": "code",
   "execution_count": 13,
   "metadata": {
    "colab": {
     "base_uri": "https://localhost:8080/",
     "height": 281
    },
    "id": "D7bcZjNXHmcG",
    "outputId": "75da574f-1749-45bc-8ec5-e239d1402142"
   },
   "outputs": [
    {
     "data": {
      "image/png": "[encoded data removed]",
      "text/plain": [
       "<Figure size 432x288 with 1 Axes>"
      ]
     },
     "metadata": {
      "needs_background": "light"
     },
     "output_type": "display_data"
    }
   ],
   "source": [
    "# Lets take an small example\n",
    "import pandas as pd\n",
    "import numpy as np\n",
    "import matplotlib.pyplot as plt\n",
    "x_axis = np.array([1,2,3,18,19,20,30,50])\n",
    "y_axis = np.array([1,2,3,18,19,20,30,50])\n",
    "\n",
    "data = pd.DataFrame({'x':x_axis, 'y':y_axis})\n",
    "\n",
    "plt.plot()\n",
    "plt.xlim([0,51])\n",
    "plt.ylim([0,51])\n",
    "plt.title('Dataset')\n",
    "plt.scatter(x_axis,y_axis)\n",
    "plt.show()"
   ]
  },
  {
   "cell_type": "code",
   "execution_count": 14,
   "metadata": {
    "colab": {
     "base_uri": "https://localhost:8080/"
    },
    "id": "4RDtPBJAIew0",
    "outputId": "50e94814-bcf9-414a-c001-6c5572a9a56d"
   },
   "outputs": [
    {
     "name": "stdout",
     "output_type": "stream",
     "text": [
      "For ONE Cluster, all data points should be assigned to 1 Cluster\n",
      "\n",
      "Clusters assigned to each datapoints :\n",
      "0    0\n",
      "1    0\n",
      "2    0\n",
      "3    0\n",
      "4    0\n",
      "5    0\n",
      "6    0\n",
      "7    0\n",
      "Name: clusters, dtype: int32\n",
      "\n",
      "Sum of Square Error/ WCSS is : 3885.75\n"
     ]
    }
   ],
   "source": [
    "print('For ONE Cluster, all data points should be assigned to 1 Cluster\\n')\n",
    "\n",
    "kmeans = KMeans(n_clusters = 1, max_iter = 100).fit(data)\n",
    "data['clusters'] = kmeans.labels_\n",
    "print('Clusters assigned to each datapoints :')\n",
    "print(data['clusters'])\n",
    "print('\\nSum of Square Error/ WCSS is :',kmeans.inertia_)"
   ]
  },
  {
   "cell_type": "code",
   "execution_count": 15,
   "metadata": {
    "colab": {
     "base_uri": "https://localhost:8080/"
    },
    "id": "kMeouSnZJ8wE",
    "outputId": "2233dfcc-5059-4dbe-a3e7-10da9db9dddc"
   },
   "outputs": [
    {
     "name": "stdout",
     "output_type": "stream",
     "text": [
      "For TWO Cluster, all data points should be assigned to 2 Clusters\n",
      "\n",
      "Clusters assigned to each datapoints :\n",
      "0    0\n",
      "1    0\n",
      "2    0\n",
      "3    0\n",
      "4    0\n",
      "5    0\n",
      "6    0\n",
      "7    1\n",
      "Name: clusters, dtype: int32\n",
      "\n",
      "Sum of Square Error/ WCSS is : 1526.8571428571427\n"
     ]
    }
   ],
   "source": [
    "print('For TWO Cluster, all data points should be assigned to 2 Clusters\\n')\n",
    "\n",
    "kmeans = KMeans(n_clusters = 2, max_iter = 100).fit(data)\n",
    "data['clusters'] = kmeans.labels_\n",
    "print('Clusters assigned to each datapoints :')\n",
    "print(data['clusters'])\n",
    "print('\\nSum of Square Error/ WCSS is :',kmeans.inertia_)"
   ]
  },
  {
   "cell_type": "code",
   "execution_count": 16,
   "metadata": {
    "colab": {
     "base_uri": "https://localhost:8080/"
    },
    "id": "Rxs1Gnm8KR0I",
    "outputId": "36c6820f-556c-458b-fb43-b730ab911733"
   },
   "outputs": [
    {
     "name": "stdout",
     "output_type": "stream",
     "text": [
      "For THREE Cluster, all data points should be assigned to 3 Clusters\n",
      "\n",
      "Clusters assigned to each datapoints :\n",
      "0    1\n",
      "1    1\n",
      "2    1\n",
      "3    0\n",
      "4    0\n",
      "5    0\n",
      "6    0\n",
      "7    2\n",
      "Name: clusters, dtype: int32\n",
      "\n",
      "Sum of Square Error/ WCSS is : 189.5\n"
     ]
    }
   ],
   "source": [
    "print('For THREE Cluster, all data points should be assigned to 3 Clusters\\n')\n",
    "\n",
    "kmeans = KMeans(n_clusters = 3, max_iter = 100).fit(data)\n",
    "data['clusters'] = kmeans.labels_\n",
    "print('Clusters assigned to each datapoints :')\n",
    "print(data['clusters'])\n",
    "print('\\nSum of Square Error/ WCSS is :',kmeans.inertia_)"
   ]
  },
  {
   "cell_type": "code",
   "execution_count": null,
   "metadata": {
    "colab": {
     "base_uri": "https://localhost:8080/",
     "height": 171
    },
    "id": "bb0qF3AJUXqr",
    "outputId": "25fad1f0-cf89-49c6-e5a1-22af8eb6041e"
   },
   "outputs": [
    {
     "name": "stdout",
     "output_type": "stream",
     "text": [
      "WCSS Formula\n",
      "\n",
      "In K Means, Distance measure is Euclidean Distance Metric\n"
     ]
    },
    {
     "data": {
      "image/jpeg": "[encoded data removed]",
      "text/plain": [
       "<IPython.core.display.Image object>"
      ]
     },
     "execution_count": 44,
     "metadata": {},
     "output_type": "execute_result"
    }
   ],
   "source": [
    "print('WCSS Formula\\n')\n",
    "print('In K Means, Distance measure is Euclidean Distance Metric')\n",
    "Image('C7423E3E-0827-4D5A-9AF4-85291A8637ED.jpeg')"
   ]
  },
  {
   "cell_type": "code",
   "execution_count": 17,
   "metadata": {
    "colab": {
     "base_uri": "https://localhost:8080/",
     "height": 403
    },
    "id": "8AQi50JHKfH4",
    "outputId": "e5f23e28-2cab-433b-8ae5-169c44ccc5eb"
   },
   "outputs": [
    {
     "name": "stdout",
     "output_type": "stream",
     "text": [
      "For cluster = 1, SSE/WCSS is 3885.75\n",
      "For cluster = 2, SSE/WCSS is 1275.0\n",
      "For cluster = 3, SSE/WCSS is 190.25\n",
      "For cluster = 4, SSE/WCSS is 8.0\n",
      "For cluster = 5, SSE/WCSS is 5.0\n"
     ]
    },
    {
     "data": {
      "image/png": "[encoded data removed]",
      "text/plain": [
       "<Figure size 432x288 with 1 Axes>"
      ]
     },
     "metadata": {
      "needs_background": "light"
     },
     "output_type": "display_data"
    },
    {
     "name": "stdout",
     "output_type": "stream",
     "text": [
      "Optimum Number of Cluster : 2\n"
     ]
    }
   ],
   "source": [
    "# ELBOW METHOD\n",
    "\n",
    "# How many clusters should we choose ? - Elbow Method\n",
    "# Select the elbow point for number of clusters\n",
    "data = pd.DataFrame({'x':x_axis, 'y':y_axis})\n",
    "\n",
    "sse = {}\n",
    "\n",
    "for k in range(1,6): # Maximum range should be 6, as it contains only 6 data points\n",
    "  kmeans = KMeans(n_clusters=k,max_iter=100).fit(data)\n",
    "  data['clusters'] = kmeans.labels_\n",
    "  sse[k] = kmeans.inertia_\n",
    "  print(\"For cluster = {}, SSE/WCSS is {}\".format(k, sse[k]))\n",
    "\n",
    "plt.figure()\n",
    "plt.plot(list(sse.keys()),list(sse.values()))\n",
    "plt.xlabel(\"Number of Cluster\")\n",
    "plt.ylabel(\"SSE / WCSS\")\n",
    "plt.title(\"ELBOW METHOD\")\n",
    "plt.show()\n",
    "\n",
    "print('Optimum Number of Cluster : 2')"
   ]
  },
  {
   "cell_type": "markdown",
   "metadata": {
    "id": "N5VfcATRWodw"
   },
   "source": [
    "#### **Silhouette Score**\n",
    "- It refers to a method of interpretation and validation of consistency within clusters of data. \n",
    "- The silhouette value is a measure of how similar an object is to its own cluster (cohesion) compared to other clusters (separation). \n",
    "- The silhouette ranges from −1 to +1, where a high value indicates that the object is well matched to its own cluster and poorly matched to neighboring clusters. \n",
    "- If most objects have a high value, then the clustering configuration is appropriate.\n",
    "- If many points have a low or negative value, then the clustering configuration may have too many or too few clusters."
   ]
  },
  {
   "cell_type": "code",
   "execution_count": null,
   "metadata": {
    "colab": {
     "base_uri": "https://localhost:8080/",
     "height": 353
    },
    "id": "eNxqI7k2Vx8P",
    "outputId": "9eb44cf5-97fa-4474-da3c-8f56ec31c888"
   },
   "outputs": [
    {
     "name": "stdout",
     "output_type": "stream",
     "text": [
      "Silhouette Score Example\n",
      "\n"
     ]
    },
    {
     "data": {
      "image/png": "[encoded data removed]",
      "text/plain": [
       "<IPython.core.display.Image object>"
      ]
     },
     "execution_count": 54,
     "metadata": {
      "image/png": {
       "height": 300
      }
     },
     "output_type": "execute_result"
    }
   ],
   "source": [
    "print('Silhouette Score Example\\n')\n",
    "Image('F936FB3C-5CD7-4269-93BB-A4C2CEFB75B0.png',height = 300)"
   ]
  },
  {
   "cell_type": "code",
   "execution_count": null,
   "metadata": {
    "colab": {
     "base_uri": "https://localhost:8080/",
     "height": 253
    },
    "id": "-R2cg4j4TCKS",
    "outputId": "93a6b808-4bed-46fb-8b67-4fd2f7658c20"
   },
   "outputs": [
    {
     "name": "stdout",
     "output_type": "stream",
     "text": [
      "Elbow Method VS Silhouette Score \n",
      "\n"
     ]
    },
    {
     "data": {
      "image/png": "[encoded data removed]",
      "text/plain": [
       "<IPython.core.display.Image object>"
      ]
     },
     "execution_count": 52,
     "metadata": {
      "image/png": {
       "height": 200
      }
     },
     "output_type": "execute_result"
    }
   ],
   "source": [
    "print('Elbow Method VS Silhouette Score \\n')\n",
    "Image('404FF6A7-9BC8-4DB7-921B-5986E1EA8E99.png',height = 200)"
   ]
  },
  {
   "cell_type": "code",
   "execution_count": null,
   "metadata": {
    "colab": {
     "base_uri": "https://localhost:8080/"
    },
    "id": "mL9ZySvtNiok",
    "outputId": "dad1d36b-7504-4726-d44c-9304a30c8345"
   },
   "outputs": [
    {
     "name": "stdout",
     "output_type": "stream",
     "text": [
      "For cluster= 0, Silhouette Coefficient is 0.08333333333333333\n",
      "For cluster= 1, Silhouette Coefficient is 0.08333333333333333\n",
      "For cluster= 2, Silhouette Coefficient is 0.08333333333333333\n",
      "For cluster= 3, Silhouette Coefficient is 0.08333333333333333\n",
      "For cluster= 4, Silhouette Coefficient is 0.08333333333333333\n",
      "For cluster= 5, Silhouette Coefficient is 0.08333333333333333\n",
      "\n",
      " It is same for every cluster, so choose from Elbow Method\n"
     ]
    }
   ],
   "source": [
    "# Silhouette Score\n",
    "\n",
    "data = pd.DataFrame({'x':x_axis, 'y':y_axis})\n",
    "\n",
    "for n_clusters in range(0,6):# Maximum range should be 6, as it contains only 6 data points\n",
    "  kmeans = KMeans(n_clusters=k,max_iter=100).fit(data)\n",
    "  label = kmeans.labels_\n",
    "  sil_coeff = silhouette_score(data,label,metric = 'euclidean')\n",
    "  print('For cluster= {}, Silhouette Coefficient is {}'.format(n_clusters,sil_coeff))\n",
    "\n",
    "print('\\n It is same for every cluster, so choose from Elbow Method')"
   ]
  },
  {
   "cell_type": "code",
   "execution_count": null,
   "metadata": {
    "colab": {
     "base_uri": "https://localhost:8080/",
     "height": 204
    },
    "id": "IgadKpnrSlNM",
    "outputId": "7724149c-1b35-4a72-c449-ad8d524a3229"
   },
   "outputs": [
    {
     "data": {
      "text/html": [
       "<div>\n",
       "<style scoped>\n",
       "    .dataframe tbody tr th:only-of-type {\n",
       "        vertical-align: middle;\n",
       "    }\n",
       "\n",
       "    .dataframe tbody tr th {\n",
       "        vertical-align: top;\n",
       "    }\n",
       "\n",
       "    .dataframe thead th {\n",
       "        text-align: right;\n",
       "    }\n",
       "</style>\n",
       "<table border=\"1\" class=\"dataframe\">\n",
       "  <thead>\n",
       "    <tr style=\"text-align: right;\">\n",
       "      <th></th>\n",
       "      <th>sepal length (cm)</th>\n",
       "      <th>sepal width (cm)</th>\n",
       "      <th>petal length (cm)</th>\n",
       "      <th>petal width (cm)</th>\n",
       "      <th>Type</th>\n",
       "    </tr>\n",
       "  </thead>\n",
       "  <tbody>\n",
       "    <tr>\n",
       "      <th>0</th>\n",
       "      <td>5.1</td>\n",
       "      <td>3.5</td>\n",
       "      <td>1.4</td>\n",
       "      <td>0.2</td>\n",
       "      <td>0</td>\n",
       "    </tr>\n",
       "    <tr>\n",
       "      <th>1</th>\n",
       "      <td>4.9</td>\n",
       "      <td>3.0</td>\n",
       "      <td>1.4</td>\n",
       "      <td>0.2</td>\n",
       "      <td>0</td>\n",
       "    </tr>\n",
       "    <tr>\n",
       "      <th>2</th>\n",
       "      <td>4.7</td>\n",
       "      <td>3.2</td>\n",
       "      <td>1.3</td>\n",
       "      <td>0.2</td>\n",
       "      <td>0</td>\n",
       "    </tr>\n",
       "    <tr>\n",
       "      <th>3</th>\n",
       "      <td>4.6</td>\n",
       "      <td>3.1</td>\n",
       "      <td>1.5</td>\n",
       "      <td>0.2</td>\n",
       "      <td>0</td>\n",
       "    </tr>\n",
       "    <tr>\n",
       "      <th>4</th>\n",
       "      <td>5.0</td>\n",
       "      <td>3.6</td>\n",
       "      <td>1.4</td>\n",
       "      <td>0.2</td>\n",
       "      <td>0</td>\n",
       "    </tr>\n",
       "  </tbody>\n",
       "</table>\n",
       "</div>"
      ],
      "text/plain": [
       "   sepal length (cm)  sepal width (cm)  ...  petal width (cm)  Type\n",
       "0                5.1               3.5  ...               0.2     0\n",
       "1                4.9               3.0  ...               0.2     0\n",
       "2                4.7               3.2  ...               0.2     0\n",
       "3                4.6               3.1  ...               0.2     0\n",
       "4                5.0               3.6  ...               0.2     0\n",
       "\n",
       "[5 rows x 5 columns]"
      ]
     },
     "execution_count": 8,
     "metadata": {},
     "output_type": "execute_result"
    }
   ],
   "source": [
    "# Lets Take another Dataset : IRIS Dataset\n",
    "# Loading the Dataset\n",
    "\n",
    "iris = datasets.load_iris()\n",
    "iris_data = pd.DataFrame(iris.data)\n",
    "iris_data.columns = iris.feature_names\n",
    "iris_data['Type']=iris.target\n",
    "iris_data.head()"
   ]
  },
  {
   "cell_type": "code",
   "execution_count": null,
   "metadata": {
    "colab": {
     "base_uri": "https://localhost:8080/"
    },
    "id": "YYotNIqgS1PM",
    "outputId": "e0004c97-ca28-45c2-9833-f782f0332a80"
   },
   "outputs": [
    {
     "name": "stdout",
     "output_type": "stream",
     "text": [
      "[[5.1 3.5 1.4 0.2]\n",
      " [4.9 3.  1.4 0.2]\n",
      " [4.7 3.2 1.3 0.2]\n",
      " [4.6 3.1 1.5 0.2]\n",
      " [5.  3.6 1.4 0.2]]\n"
     ]
    }
   ],
   "source": [
    "# Preparing Data\n",
    "# Here we have the target variable ‘Type’. \n",
    "# We need to remove the target variable, used to work in an unsupervised learning \n",
    "# The iloc function is used to get the features we require. \n",
    "# We also use .values function to get an array of the dataset. \n",
    "# Note : We transformed the dataset to an array so that we can plot the graphs of the clusters\n",
    "\n",
    "iris_X = iris_data.iloc[:, [0, 1, 2,3]].values\n",
    "print(iris_X[:5,:]) # Printing First 5 Rows"
   ]
  },
  {
   "cell_type": "code",
   "execution_count": null,
   "metadata": {
    "colab": {
     "base_uri": "https://localhost:8080/"
    },
    "id": "nQQGS8_dTvbU",
    "outputId": "d18fde86-40a3-4f64-f212-49f7d5a56924"
   },
   "outputs": [
    {
     "name": "stdout",
     "output_type": "stream",
     "text": [
      "[0 0 0 0 0 0 0 0 0 0 0 0 0 0 0 0 0 0 0 0 0 0 0 0 0 0 0 0 0 0 0 0 0 0 0 0 0\n",
      " 0 0 0 0 0 0 0 0 0 0 0 0 0 1 1 1 1 1 1 1 1 1 1 1 1 1 1 1 1 1 1 1 1 1 1 1 1\n",
      " 1 1 1 1 1 1 1 1 1 1 1 1 1 1 1 1 1 1 1 1 1 1 1 1 1 1 2 2 2 2 2 2 2 2 2 2 2\n",
      " 2 2 2 2 2 2 2 2 2 2 2 2 2 2 2 2 2 2 2 2 2 2 2 2 2 2 2 2 2 2 2 2 2 2 2 2 2\n",
      " 2 2]\n"
     ]
    },
    {
     "data": {
      "text/plain": [
       "{0: 50, 1: 50, 2: 50}"
      ]
     },
     "execution_count": 10,
     "metadata": {},
     "output_type": "execute_result"
    }
   ],
   "source": [
    "# Now we will separate the target variable from the original dataset \n",
    "# And again convert it to an array by using numpy\n",
    "iris_Y = iris_data['Type']\n",
    "iris_Y = np.array(iris_Y)\n",
    "print(iris_Y)\n",
    "# Frequency count of the Output clusters\n",
    "unique, counts = np.unique(iris_Y, return_counts=True)\n",
    "freq_1 = dict(zip(unique, counts))\n",
    "freq_1"
   ]
  },
  {
   "cell_type": "code",
   "execution_count": null,
   "metadata": {
    "colab": {
     "base_uri": "https://localhost:8080/"
    },
    "id": "7zdlBmMrilBn",
    "outputId": "1e0a64f1-553e-4710-9cf6-4ce747c80c34"
   },
   "outputs": [
    {
     "name": "stdout",
     "output_type": "stream",
     "text": [
      "Filtering Setosa, True means its Setosa and False means Non Setosa\n",
      "0    True\n",
      "1    True\n",
      "2    True\n",
      "3    True\n",
      "4    True\n",
      "Name: Type, dtype: bool\n",
      "Top 6 Rows of Setosa\n",
      "   sepal length (cm)  sepal width (cm)\n",
      "0                5.1               3.5\n",
      "1                4.9               3.0\n",
      "2                4.7               3.2\n",
      "3                4.6               3.1\n",
      "4                5.0               3.6\n",
      "Last 6 Rows of Setosa\n",
      "    sepal length (cm)  sepal width (cm)\n",
      "45                4.8               3.0\n",
      "46                5.1               3.8\n",
      "47                4.6               3.2\n",
      "48                5.3               3.7\n",
      "49                5.0               3.3\n"
     ]
    }
   ],
   "source": [
    "# Filtering Setosa\n",
    "\n",
    "Setosa = iris_data['Type'] == 0\n",
    "print(\"Filtering Setosa, True means its Setosa and False means Non Setosa\")\n",
    "print(Setosa.head())\n",
    "print(\"Top 6 Rows of Setosa\")\n",
    "Setosa_v2 = iris_data[Setosa]\n",
    "print(Setosa_v2[Setosa_v2.columns[0:2]].head())\n",
    "print(\"Last 6 Rows of Setosa\")\n",
    "print(Setosa_v2[Setosa_v2.columns[0:2]].tail())"
   ]
  },
  {
   "cell_type": "code",
   "execution_count": null,
   "metadata": {
    "colab": {
     "base_uri": "https://localhost:8080/",
     "height": 485
    },
    "id": "_wOmXWLJWzq5",
    "outputId": "bd62ae06-73d3-4085-84dd-a445023bcce6"
   },
   "outputs": [
    {
     "name": "stdout",
     "output_type": "stream",
     "text": [
      "Setosa for 2D Plot\n",
      "X Axis points\n",
      "[5.1 4.9 4.7 4.6 5.  5.4 4.6 5.  4.4 4.9 5.4 4.8 4.8 4.3 5.8 5.7 5.4 5.1\n",
      " 5.7 5.1 5.4 5.1 4.6 5.1 4.8 5.  5.  5.2 5.2 4.7 4.8 5.4 5.2 5.5 4.9 5.\n",
      " 5.5 4.9 4.4 5.1 5.  4.5 4.4 5.  5.1 4.8 5.1 4.6 5.3 5. ]\n",
      "Y Axis Points\n",
      "[3.5 3.  3.2 3.1 3.6 3.9 3.4 3.4 2.9 3.1 3.7 3.4 3.  3.  4.  4.4 3.9 3.5\n",
      " 3.8 3.8 3.4 3.7 3.6 3.3 3.4 3.  3.4 3.5 3.4 3.2 3.1 3.4 4.1 4.2 3.1 3.2\n",
      " 3.5 3.6 3.  3.4 3.5 2.3 3.2 3.5 3.8 3.  3.8 3.2 3.7 3.3]\n",
      "\n",
      "\n"
     ]
    },
    {
     "data": {
      "text/plain": [
       "(2.0, 4.5)"
      ]
     },
     "execution_count": 12,
     "metadata": {},
     "output_type": "execute_result"
    },
    {
     "data": {
      "image/png": "[encoded data removed]",
      "text/plain": [
       "<Figure size 432x288 with 1 Axes>"
      ]
     },
     "metadata": {
      "needs_background": "light"
     },
     "output_type": "display_data"
    }
   ],
   "source": [
    "# Filtering Setosa for 2D Plot \n",
    "\n",
    "print(\"Setosa for 2D Plot\")\n",
    "print(\"X Axis points\")\n",
    "print(iris_X[iris_Y == 0,0])\n",
    "print(\"Y Axis Points\")\n",
    "print(iris_X[iris_Y == 0,1])\n",
    "print('\\n')\n",
    "# For Setosa in Target Column i.e, iris_Y = 0 \n",
    "# In other word it should range from (0,0) to (0,1)\n",
    "plt.scatter(iris_X[iris_Y == 0, 0], iris_X[iris_Y == 0, 1], \n",
    "            s = 80, c = 'orange', label = 'Iris-setosa')\n",
    "plt.xlim([4.5,8])\n",
    "plt.ylim([2,4.5])"
   ]
  },
  {
   "cell_type": "code",
   "execution_count": null,
   "metadata": {
    "colab": {
     "base_uri": "https://localhost:8080/"
    },
    "id": "vN6l86eLnvni",
    "outputId": "20fdffca-6431-4a4c-bd38-acc90ff57ea6"
   },
   "outputs": [
    {
     "name": "stdout",
     "output_type": "stream",
     "text": [
      "Filtering Versicolour, True means its Versicolour and False means Non Versicolour\n",
      "0    False\n",
      "1    False\n",
      "2    False\n",
      "3    False\n",
      "4    False\n",
      "Name: Type, dtype: bool\n",
      "Top 6 Rows of Versicolour\n",
      "    sepal length (cm)  sepal width (cm)\n",
      "50                7.0               3.2\n",
      "51                6.4               3.2\n",
      "52                6.9               3.1\n",
      "53                5.5               2.3\n",
      "54                6.5               2.8\n",
      "Last 6 Rows of Versicolour\n",
      "    sepal length (cm)  sepal width (cm)\n",
      "95                5.7               3.0\n",
      "96                5.7               2.9\n",
      "97                6.2               2.9\n",
      "98                5.1               2.5\n",
      "99                5.7               2.8\n"
     ]
    }
   ],
   "source": [
    "# Filtering Versicolour\n",
    "\n",
    "Versi = iris_data['Type'] == 1\n",
    "print(\"Filtering Versicolour, True means its Versicolour and False means Non Versicolour\")\n",
    "print(Versi.head())\n",
    "print(\"Top 6 Rows of Versicolour\")\n",
    "Versi_v2 = iris_data[Versi]\n",
    "print(Versi_v2[Versi_v2.columns[0:2]].head())\n",
    "print(\"Last 6 Rows of Versicolour\")\n",
    "print(Versi_v2[Versi_v2.columns[0:2]].tail())"
   ]
  },
  {
   "cell_type": "code",
   "execution_count": null,
   "metadata": {
    "colab": {
     "base_uri": "https://localhost:8080/",
     "height": 485
    },
    "id": "M7mb70sXnTMg",
    "outputId": "e0807975-b90a-4608-ec2c-237590445439"
   },
   "outputs": [
    {
     "name": "stdout",
     "output_type": "stream",
     "text": [
      "Versicolour for 2D Plot\n",
      "X Axis points\n",
      "[7.  6.4 6.9 5.5 6.5 5.7 6.3 4.9 6.6 5.2 5.  5.9 6.  6.1 5.6 6.7 5.6 5.8\n",
      " 6.2 5.6 5.9 6.1 6.3 6.1 6.4 6.6 6.8 6.7 6.  5.7 5.5 5.5 5.8 6.  5.4 6.\n",
      " 6.7 6.3 5.6 5.5 5.5 6.1 5.8 5.  5.6 5.7 5.7 6.2 5.1 5.7]\n",
      "Y Axis Points\n",
      "[3.2 3.2 3.1 2.3 2.8 2.8 3.3 2.4 2.9 2.7 2.  3.  2.2 2.9 2.9 3.1 3.  2.7\n",
      " 2.2 2.5 3.2 2.8 2.5 2.8 2.9 3.  2.8 3.  2.9 2.6 2.4 2.4 2.7 2.7 3.  3.4\n",
      " 3.1 2.3 3.  2.5 2.6 3.  2.6 2.3 2.7 3.  2.9 2.9 2.5 2.8]\n",
      "\n",
      "\n"
     ]
    },
    {
     "data": {
      "text/plain": [
       "(2.0, 4.5)"
      ]
     },
     "execution_count": 14,
     "metadata": {},
     "output_type": "execute_result"
    },
    {
     "data": {
      "image/png": "[encoded data removed]",
      "text/plain": [
       "<Figure size 432x288 with 1 Axes>"
      ]
     },
     "metadata": {
      "needs_background": "light"
     },
     "output_type": "display_data"
    }
   ],
   "source": [
    "# Filtering Versicolour for 2D Plot \n",
    "\n",
    "print(\"Versicolour for 2D Plot\")\n",
    "print(\"X Axis points\")\n",
    "print(iris_X[iris_Y == 1,0])\n",
    "print(\"Y Axis Points\")\n",
    "print(iris_X[iris_Y == 1,1])\n",
    "print('\\n')\n",
    "plt.scatter(iris_X[iris_Y == 1, 0], iris_X[iris_Y == 1, 1], \n",
    "            s = 80, c = 'yellow', label = 'Iris-versicolour')\n",
    "\n",
    "plt.xlim([4.5,8])\n",
    "plt.ylim([2,4.5])"
   ]
  },
  {
   "cell_type": "code",
   "execution_count": null,
   "metadata": {
    "colab": {
     "base_uri": "https://localhost:8080/"
    },
    "id": "qD2TL0cwocaN",
    "outputId": "8f0f6856-4922-4750-c195-7b8a5e9b4fa5"
   },
   "outputs": [
    {
     "name": "stdout",
     "output_type": "stream",
     "text": [
      "Filtering Virginica, True means its Virginica and False means Non Virginica\n",
      "0    False\n",
      "1    False\n",
      "2    False\n",
      "3    False\n",
      "4    False\n",
      "Name: Type, dtype: bool\n",
      "Top 6 Rows of Virginica\n",
      "     sepal length (cm)  sepal width (cm)\n",
      "100                6.3               3.3\n",
      "101                5.8               2.7\n",
      "102                7.1               3.0\n",
      "103                6.3               2.9\n",
      "104                6.5               3.0\n",
      "Last 6 Rows of Virginica\n",
      "     sepal length (cm)  sepal width (cm)\n",
      "145                6.7               3.0\n",
      "146                6.3               2.5\n",
      "147                6.5               3.0\n",
      "148                6.2               3.4\n",
      "149                5.9               3.0\n"
     ]
    }
   ],
   "source": [
    "# Filtering Virginica\n",
    "\n",
    "Virginica = iris_data['Type'] == 2\n",
    "print(\"Filtering Virginica, True means its Virginica and False means Non Virginica\")\n",
    "print(Virginica.head())\n",
    "print(\"Top 6 Rows of Virginica\")\n",
    "Virginica_v2 = iris_data[Virginica]\n",
    "print(Virginica_v2[Virginica_v2.columns[0:2]].head())\n",
    "print(\"Last 6 Rows of Virginica\")\n",
    "print(Virginica_v2[Virginica_v2.columns[0:2]].tail())"
   ]
  },
  {
   "cell_type": "code",
   "execution_count": null,
   "metadata": {
    "colab": {
     "base_uri": "https://localhost:8080/",
     "height": 485
    },
    "id": "wsnoGdx0objs",
    "outputId": "32980a65-ea59-4287-d1cf-95f3b53396ff"
   },
   "outputs": [
    {
     "name": "stdout",
     "output_type": "stream",
     "text": [
      "Virginica for 2D Plot\n",
      "X Axis points\n",
      "[6.3 5.8 7.1 6.3 6.5 7.6 4.9 7.3 6.7 7.2 6.5 6.4 6.8 5.7 5.8 6.4 6.5 7.7\n",
      " 7.7 6.  6.9 5.6 7.7 6.3 6.7 7.2 6.2 6.1 6.4 7.2 7.4 7.9 6.4 6.3 6.1 7.7\n",
      " 6.3 6.4 6.  6.9 6.7 6.9 5.8 6.8 6.7 6.7 6.3 6.5 6.2 5.9]\n",
      "Y Axis Points\n",
      "[3.3 2.7 3.  2.9 3.  3.  2.5 2.9 2.5 3.6 3.2 2.7 3.  2.5 2.8 3.2 3.  3.8\n",
      " 2.6 2.2 3.2 2.8 2.8 2.7 3.3 3.2 2.8 3.  2.8 3.  2.8 3.8 2.8 2.8 2.6 3.\n",
      " 3.4 3.1 3.  3.1 3.1 3.1 2.7 3.2 3.3 3.  2.5 3.  3.4 3. ]\n",
      "\n",
      "\n"
     ]
    },
    {
     "data": {
      "text/plain": [
       "(2.0, 4.5)"
      ]
     },
     "execution_count": 16,
     "metadata": {},
     "output_type": "execute_result"
    },
    {
     "data": {
      "image/png": "[encoded data removed]",
      "text/plain": [
       "<Figure size 432x288 with 1 Axes>"
      ]
     },
     "metadata": {
      "needs_background": "light"
     },
     "output_type": "display_data"
    }
   ],
   "source": [
    "# Filtering Virginica for 2D Plot\n",
    "\n",
    "print(\"Virginica for 2D Plot\")\n",
    "print(\"X Axis points\")\n",
    "print(iris_X[iris_Y == 2,0])\n",
    "print(\"Y Axis Points\")\n",
    "print(iris_X[iris_Y == 2,1])\n",
    "print('\\n')\n",
    "plt.scatter(iris_X[iris_Y == 2, 0], iris_X[iris_Y == 2, 1], \n",
    "            s = 80, c = 'green', label = 'Iris-virginica')\n",
    "plt.xlim([4.5,8])\n",
    "plt.ylim([2,4.5])"
   ]
  },
  {
   "cell_type": "code",
   "execution_count": null,
   "metadata": {
    "colab": {
     "base_uri": "https://localhost:8080/",
     "height": 286
    },
    "id": "HCShLm9HUWHn",
    "outputId": "43d5e2ea-c320-451c-9ca0-71e76384bfb1"
   },
   "outputs": [
    {
     "data": {
      "text/plain": [
       "<matplotlib.legend.Legend at 0x7f19f4e46e50>"
      ]
     },
     "execution_count": 17,
     "metadata": {},
     "output_type": "execute_result"
    },
    {
     "data": {
      "image/png": "[encoded data removed]",
      "text/plain": [
       "<Figure size 432x288 with 1 Axes>"
      ]
     },
     "metadata": {
      "needs_background": "light"
     },
     "output_type": "display_data"
    }
   ],
   "source": [
    "# Visualise Classes all at once\n",
    "\n",
    "# In this Iris dataset, we have three classes (0,1,2)\n",
    "# We visualise these classes in a 2-D graph \n",
    "# This will help us in comparing the original classes with the clusters created \n",
    "# Plot the three type of flowers on a graph\n",
    "\n",
    "plt.scatter(iris_X[iris_Y == 0, 0], iris_X[iris_Y == 0, 1], \n",
    "            s = 80, c = 'orange', label = 'Iris-setosa')\n",
    "plt.scatter(iris_X[iris_Y == 1, 0], iris_X[iris_Y == 1, 1], \n",
    "            s = 80, c = 'yellow', label = 'Iris-versicolour')\n",
    "plt.scatter(iris_X[iris_Y == 2, 0], iris_X[iris_Y == 2, 1], \n",
    "            s = 80, c = 'green', label = 'Iris-virginica')\n",
    "plt.legend()\n",
    "\n",
    "# Inference : \n",
    "# We find that we have three classes with two types of Iris flowers overlapping each other"
   ]
  },
  {
   "cell_type": "code",
   "execution_count": null,
   "metadata": {
    "colab": {
     "base_uri": "https://localhost:8080/",
     "height": 493
    },
    "id": "q3vCVatczYBY",
    "outputId": "eb1fa4ab-cd98-4761-911d-3d1ebdf2656e"
   },
   "outputs": [
    {
     "name": "stdout",
     "output_type": "stream",
     "text": [
      "For cluster = 1, SSE/WCSS is 681.3706\n",
      "For cluster = 2, SSE/WCSS is 152.34795176035792\n",
      "For cluster = 3, SSE/WCSS is 78.85144142614601\n",
      "For cluster = 4, SSE/WCSS is 57.25600931571815\n",
      "For cluster = 5, SSE/WCSS is 46.44618205128205\n",
      "For cluster = 6, SSE/WCSS is 39.03998724608725\n",
      "For cluster = 7, SSE/WCSS is 34.299712121212124\n",
      "For cluster = 8, SSE/WCSS is 30.014398496240602\n",
      "For cluster = 9, SSE/WCSS is 28.036906353450473\n",
      "For cluster = 10, SSE/WCSS is 26.53452922077922\n"
     ]
    },
    {
     "data": {
      "text/plain": [
       "Text(0, 0.5, 'WCSS')"
      ]
     },
     "execution_count": 18,
     "metadata": {},
     "output_type": "execute_result"
    },
    {
     "data": {
      "image/png": "[encoded data removed]",
      "text/plain": [
       "<Figure size 432x288 with 1 Axes>"
      ]
     },
     "metadata": {
      "needs_background": "light"
     },
     "output_type": "display_data"
    }
   ],
   "source": [
    "# K Means\n",
    "\n",
    "# Deciding Value of K\n",
    "# The most crucial aspect of K-Means clustering is deciding the value of K\n",
    "# We do this by performing Elbow Analysis \n",
    "\n",
    "wcss=[]\n",
    "for i in range(1, 11):\n",
    "    kmeans = KMeans(n_clusters = i, init = 'k-means++', max_iter = 300,\n",
    "                    n_init = 10, random_state = 0)\n",
    "    kmeans.fit(iris_X)\n",
    "    wcss.append(kmeans.inertia_)\n",
    "    sse[i] = kmeans.inertia_\n",
    "    print(\"For cluster = {}, SSE/WCSS is {}\".format(i, sse[i]))\n",
    "\n",
    "plt.plot(range(1, 11), wcss)\n",
    "plt.title('The elbow method')\n",
    "plt.xlabel('Number of clusters')\n",
    "plt.ylabel('WCSS')\n",
    "\n",
    "# Inference : \n",
    "# Cluster 1 means only one cluster, inshort variance of the dataset\n",
    "# Variance in Cluster 1 = 681\n",
    "# Cluster 2 means two cluster i.e, Variance in Cluster 2 = 152\n",
    "# Same way for Variance in Cluster 3 = 78\n",
    "# Vairance in Cluster is also knows as Within Cluster Sum of Square (WCSS)\n",
    "# Normally as we increase number of clusters, within Sum of Square will decrease \n",
    "\n",
    "# In the elbow graph, we look for the points where the drop falls and the line smoothens out\n",
    "# In the above graph, this happens for k=3. \n",
    "# Another way of understanding this is that we note the point at which the WCSS is less \n",
    "# and try to find the number of clusters for our dataset. \n",
    "# We see that at the number of clusters = 3, WCSS is less than 100, which is good for us. \n",
    "# So we take k =3.\n",
    "# We will check Silhouette Coefficient also for 3 and 4 Clusters respectively"
   ]
  },
  {
   "cell_type": "code",
   "execution_count": null,
   "metadata": {
    "colab": {
     "base_uri": "https://localhost:8080/"
    },
    "id": "lTHnXGs90GGq",
    "outputId": "72f5ccd2-66ba-4fb0-dec2-36433e59f3d5"
   },
   "outputs": [
    {
     "name": "stdout",
     "output_type": "stream",
     "text": [
      "[1 1 1 1 1 1 1 1 1 1 1 1 1 1 1 1 1 1 1 1 1 1 1 1 1 1 1 1 1 1 1 1 1 1 1 1 1\n",
      " 1 1 1 1 1 1 1 1 1 1 1 1 1 0 0 2 0 0 0 0 0 0 0 0 0 0 0 0 0 0 0 0 0 0 0 0 0\n",
      " 0 0 0 2 0 0 0 0 0 0 0 0 0 0 0 0 0 0 0 0 0 0 0 0 0 0 2 0 2 2 2 2 0 2 2 2 2\n",
      " 2 2 0 0 2 2 2 2 0 2 0 2 0 2 2 0 0 2 2 2 2 2 0 2 2 2 2 0 2 2 2 0 2 2 2 0 2\n",
      " 2 0]\n"
     ]
    },
    {
     "data": {
      "text/plain": [
       "{0: 62, 1: 50, 2: 38}"
      ]
     },
     "execution_count": 19,
     "metadata": {},
     "output_type": "execute_result"
    }
   ],
   "source": [
    "# Running K-Means Model\n",
    "\n",
    "# We now run K-Means clustering for obtaining a 3 cluster solution.\n",
    "cluster_Kmeans = KMeans(n_clusters=3)\n",
    "model_kmeans = cluster_Kmeans.fit(iris_X)\n",
    "pred_kmeans = model_kmeans.labels_\n",
    "print(pred_kmeans)\n",
    "\n",
    "# Frequency count of the Output clusters\n",
    "unique, counts = np.unique(pred_kmeans, return_counts=True)\n",
    "dict(zip(unique, counts))"
   ]
  },
  {
   "cell_type": "code",
   "execution_count": null,
   "metadata": {
    "colab": {
     "base_uri": "https://localhost:8080/",
     "height": 376
    },
    "id": "mezxq4Fx030O",
    "outputId": "747d6323-513a-4487-a049-4944d69a4df4"
   },
   "outputs": [
    {
     "name": "stdout",
     "output_type": "stream",
     "text": [
      "Original Cluster Frequency {0: 50, 1: 50, 2: 50}\n",
      "K Means Output Cluster Frequency {0: 62, 1: 50, 2: 38}\n",
      "Silhouette Score for 3 Clusters 0.5528190123564091\n",
      "\n",
      "\n"
     ]
    },
    {
     "data": {
      "text/plain": [
       "<matplotlib.legend.Legend at 0x7f19eac99810>"
      ]
     },
     "execution_count": 20,
     "metadata": {},
     "output_type": "execute_result"
    },
    {
     "data": {
      "image/png": "[encoded data removed]",
      "text/plain": [
       "<Figure size 432x288 with 1 Axes>"
      ]
     },
     "metadata": {
      "needs_background": "light"
     },
     "output_type": "display_data"
    }
   ],
   "source": [
    "# Visualizing Output\n",
    "\n",
    "print('Original Cluster Frequency',freq_1)\n",
    "# Frequency count of the Output clusters\n",
    "unique, counts = np.unique(pred_kmeans, return_counts=True)\n",
    "print('K Means Output Cluster Frequency',dict(zip(unique, counts)))\n",
    "# Silhouette Score\n",
    "print('Silhouette Score for 3 Clusters',silhouette_score(iris_X,pred_kmeans))\n",
    "print(\"\\n\")\n",
    "\n",
    "# In the above output we got value labels: ‘0’, ‘1’  and ‘2’\n",
    "# For a better understanding, we can visualize these clusters.\n",
    "\n",
    "plt.scatter(iris_X[pred_kmeans == 0, 0], iris_X[pred_kmeans == 0, 1], \n",
    "            s = 80, c = 'orange', label = 'Iris-setosa')\n",
    "plt.scatter(iris_X[pred_kmeans == 1, 0], iris_X[pred_kmeans == 1, 1], \n",
    "            s = 80, c = 'yellow', label = 'Iris-versicolour')\n",
    "plt.scatter(iris_X[pred_kmeans == 2, 0], iris_X[pred_kmeans == 2, 1], \n",
    "            s = 80, c = 'green', label = 'Iris-virginica')\n",
    "plt.legend()\n",
    "\n",
    "# Inference : \n",
    "# When compared to the original classes we find that the observations of the class label \n",
    "# \"1\" has been correctly formed into a separate well-defined cluster\n",
    "# however, for the other two classes, clusters are not as correct. \n",
    "# This is mainly because, in the original dataset, these two class labels were overlapping each other \n",
    "# which makes it difficult for the clustering algorithm as it works best for clear neat separate observations. \n",
    "# Still, the clusters have been formed, more or less correctly\n",
    "# Silhouette Score = 0.55 which is not bad enough (should be tend to 1)"
   ]
  },
  {
   "cell_type": "code",
   "execution_count": null,
   "metadata": {
    "colab": {
     "base_uri": "https://localhost:8080/"
    },
    "id": "jXNotcalLWmu",
    "outputId": "27286acf-2166-4513-d0d2-f3f5df405e15"
   },
   "outputs": [
    {
     "name": "stdout",
     "output_type": "stream",
     "text": [
      "Silhouette Score for 4 Cluster\n",
      "0.4980505049972867\n",
      "\n",
      "\n",
      "For cluster= 2, Silhouette Coefficient is 0.681046169211746\n",
      "For cluster= 3, Silhouette Coefficient is 0.5528190123564091\n",
      "For cluster= 4, Silhouette Coefficient is 0.4980505049972867\n",
      "For cluster= 5, Silhouette Coefficient is 0.4887488870931048\n",
      "For cluster= 6, Silhouette Coefficient is 0.3664804028900824\n",
      "For cluster= 7, Silhouette Coefficient is 0.3566882476581684\n",
      "For cluster= 8, Silhouette Coefficient is 0.3598224057544486\n",
      "For cluster= 9, Silhouette Coefficient is 0.3311879738342126\n",
      "For cluster= 10, Silhouette Coefficient is 0.31176492992430954\n",
      "For cluster= 11, Silhouette Coefficient is 0.3239524663368962\n",
      "For cluster= 12, Silhouette Coefficient is 0.30692302322609377\n",
      "For cluster= 13, Silhouette Coefficient is 0.3011211881105722\n",
      "For cluster= 14, Silhouette Coefficient is 0.2808283122551038\n",
      "For cluster= 15, Silhouette Coefficient is 0.29543493729805287\n",
      "For cluster= 16, Silhouette Coefficient is 0.3089537581524615\n",
      "For cluster= 17, Silhouette Coefficient is 0.2961051290749642\n",
      "For cluster= 18, Silhouette Coefficient is 0.29436627821638256\n",
      "For cluster= 19, Silhouette Coefficient is 0.27720782666683685\n"
     ]
    }
   ],
   "source": [
    "# If we take 4 Cluster to Check Silhouetter Score\n",
    "cluster_Kmeans = KMeans(n_clusters=4)\n",
    "model_kmeans = cluster_Kmeans.fit(iris_X)\n",
    "labels_1 = model_kmeans.labels_\n",
    "print(\"Silhouette Score for 4 Cluster\")\n",
    "print(silhouette_score(iris_X,labels_1))\n",
    "print('\\n')\n",
    "\n",
    "# Inference : \n",
    "# As we can observe Score is 0.49 (decrease so reject 4 Cluster)\n",
    "# Optimal number of cluster=3 as its silhouette score is greater than that of 4 clusters\n",
    "wcss = []\n",
    "\n",
    "for k in range(2,20):\n",
    "  kmeans = KMeans(n_clusters= k,max_iter=100).fit(iris_X)\n",
    "  label = kmeans.labels_\n",
    "  sil_coeff = silhouette_score(iris_X,label,metric = 'euclidean')\n",
    "  print('For cluster= {}, Silhouette Coefficient is {}'.format(k,sil_coeff))"
   ]
  }
 ],
 "metadata": {
  "colab": {
   "authorship_tag": "ABX9TyNbK0ZvShB20D8oogjHlhcz",
   "collapsed_sections": [],
   "include_colab_link": true,
   "name": "06 K Means Clustering.ipynb",
   "provenance": []
  },
  "kernelspec": {
   "display_name": "Python 3 (ipykernel)",
   "language": "python",
   "name": "python3"
  },
  "language_info": {
   "codemirror_mode": {
    "name": "ipython",
    "version": 3
   },
   "file_extension": ".py",
   "mimetype": "text/x-python",
   "name": "python",
   "nbconvert_exporter": "python",
   "pygments_lexer": "ipython3",
   "version": "3.10.12"
  }
 },
 "nbformat": 4,
 "nbformat_minor": 1
}
