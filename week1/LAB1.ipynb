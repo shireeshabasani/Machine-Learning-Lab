{
 "cells": [
  {
   "cell_type": "code",
   "execution_count": 2,
   "id": "2bf2e3e8-fff1-4d99-b1e9-b799561beef8",
   "metadata": {},
   "outputs": [
    {
     "name": "stdout",
     "output_type": "stream",
     "text": [
      "0    1\n",
      "1    2\n",
      "2    3\n",
      "3    4\n",
      "dtype: int64\n"
     ]
    }
   ],
   "source": [
    "import pandas as pd\n",
    "data=[1,2,3,4]\n",
    "df=pd.Series(data)\n",
    "print(df)"
   ]
  },
  {
   "cell_type": "code",
   "execution_count": 3,
   "id": "d89f83d6-9322-4470-8856-221c91022fae",
   "metadata": {},
   "outputs": [
    {
     "name": "stdout",
     "output_type": "stream",
     "text": [
      "      names brands\n",
      "0  poojitha    sss\n",
      "1     ramya    ppp\n",
      "2      renu    rrr\n"
     ]
    }
   ],
   "source": [
    "import pandas as pd\n",
    "data={\"names\":[\"poojitha\",\"ramya\",\"renu\"],\"brands\":[\"sss\",\"ppp\",\"rrr\"]}\n",
    "df=pd.DataFrame(data)\n",
    "print(df)"
   ]
  },
  {
   "cell_type": "code",
   "execution_count": 4,
   "id": "8083dad8-5177-42c4-be7f-409a7749e982",
   "metadata": {},
   "outputs": [
    {
     "name": "stdout",
     "output_type": "stream",
     "text": [
      "   TransactionID TransactionDate  UserID  ProductID  Quantity\n",
      "0              1      2010-08-21     7.0          2         1\n",
      "1              2      2011-05-26     3.0          4         1\n",
      "2              3      2011-06-16     3.0          3         1\n",
      "3              4      2012-08-26     1.0          2         3\n",
      "4              5      2013-06-06     2.0          4         1\n",
      "5              6      2013-12-23     2.0          5         6\n",
      "6              7      2013-12-30     3.0          4         1\n",
      "7              8      2014-04-24     NaN          2         3\n",
      "8              9      2015-04-24     7.0          4         3\n",
      "9             10      2016-05-08     3.0          4         4\n"
     ]
    }
   ],
   "source": [
    "df=pd.read_csv('/home/user/Downloads/transactions.csv')\n",
    "print(df)"
   ]
  },
  {
   "cell_type": "code",
   "execution_count": 11,
   "id": "cf66cede-3d6c-4536-9c74-640bac8d62f4",
   "metadata": {},
   "outputs": [
    {
     "name": "stdout",
     "output_type": "stream",
     "text": [
      "   TransactionID TransactionDate  UserID  ProductID  Quantity\n",
      "0              1      2010-08-21     7.0          2         1\n",
      "1              2      2011-05-26     3.0          4         1\n",
      "2              3      2011-06-16     3.0          3         1\n",
      "3              4      2012-08-26     1.0          2         3\n",
      "4              5      2013-06-06     2.0          4         1\n"
     ]
    }
   ],
   "source": [
    "print(df.head())"
   ]
  },
  {
   "cell_type": "code",
   "execution_count": 12,
   "id": "3ad78c1f-c9f1-4ba6-8562-dcee1b1a71d5",
   "metadata": {},
   "outputs": [
    {
     "name": "stdout",
     "output_type": "stream",
     "text": [
      "   TransactionID TransactionDate  UserID  ProductID  Quantity\n",
      "8              9      2015-04-24     7.0          4         3\n",
      "9             10      2016-05-08     3.0          4         4\n"
     ]
    }
   ],
   "source": [
    "print(df.tail(2))"
   ]
  },
  {
   "cell_type": "code",
   "execution_count": 15,
   "id": "6815c4dc-f520-460f-a263-63da4b28f331",
   "metadata": {},
   "outputs": [
    {
     "name": "stdout",
     "output_type": "stream",
     "text": [
      "<class 'pandas.core.frame.DataFrame'>\n",
      "RangeIndex: 10 entries, 0 to 9\n",
      "Data columns (total 5 columns):\n",
      " #   Column           Non-Null Count  Dtype  \n",
      "---  ------           --------------  -----  \n",
      " 0   TransactionID    10 non-null     int64  \n",
      " 1   TransactionDate  10 non-null     object \n",
      " 2   UserID           9 non-null      float64\n",
      " 3   ProductID        10 non-null     int64  \n",
      " 4   Quantity         10 non-null     int64  \n",
      "dtypes: float64(1), int64(3), object(1)\n",
      "memory usage: 532.0+ bytes\n",
      "None\n"
     ]
    }
   ],
   "source": [
    "print(df.info())"
   ]
  },
  {
   "cell_type": "code",
   "execution_count": 13,
   "id": "656131a3-40b9-427b-9fd2-297bc3d639f2",
   "metadata": {},
   "outputs": [
    {
     "name": "stdout",
     "output_type": "stream",
     "text": [
      "       TransactionID    UserID  ProductID   Quantity\n",
      "count       10.00000  9.000000  10.000000  10.000000\n",
      "mean         5.50000  3.444444   3.400000   2.400000\n",
      "std          3.02765  2.127858   1.074968   1.712698\n",
      "min          1.00000  1.000000   2.000000   1.000000\n",
      "25%          3.25000  2.000000   2.250000   1.000000\n",
      "50%          5.50000  3.000000   4.000000   2.000000\n",
      "75%          7.75000  3.000000   4.000000   3.000000\n",
      "max         10.00000  7.000000   5.000000   6.000000\n"
     ]
    }
   ],
   "source": [
    "print(df.describe())"
   ]
  },
  {
   "cell_type": "code",
   "execution_count": 14,
   "id": "33e2f586-cc71-44a8-a23d-258b4fb174c4",
   "metadata": {},
   "outputs": [
    {
     "name": "stdout",
     "output_type": "stream",
     "text": [
      "0    7.0\n",
      "1    3.0\n",
      "2    3.0\n",
      "3    1.0\n",
      "4    2.0\n",
      "5    2.0\n",
      "6    3.0\n",
      "7    NaN\n",
      "8    7.0\n",
      "9    3.0\n",
      "Name: UserID, dtype: float64\n"
     ]
    }
   ],
   "source": [
    "print(df['UserID'])"
   ]
  },
  {
   "cell_type": "code",
   "execution_count": 15,
   "id": "b6330fe7-6992-4c8f-bac6-c1b9c4675401",
   "metadata": {},
   "outputs": [
    {
     "name": "stdout",
     "output_type": "stream",
     "text": [
      "   UserID  Quantity\n",
      "0     7.0         1\n",
      "1     3.0         1\n",
      "2     3.0         1\n",
      "3     1.0         3\n",
      "4     2.0         1\n",
      "5     2.0         6\n",
      "6     3.0         1\n",
      "7     NaN         3\n",
      "8     7.0         3\n",
      "9     3.0         4\n"
     ]
    }
   ],
   "source": [
    "print(df[['UserID','Quantity']])"
   ]
  },
  {
   "cell_type": "code",
   "execution_count": 16,
   "id": "4996f97c-2111-4abd-a7f5-38c56d2c1bf5",
   "metadata": {},
   "outputs": [
    {
     "name": "stdout",
     "output_type": "stream",
     "text": [
      "TransactionID               2\n",
      "TransactionDate    2011-05-26\n",
      "UserID                    3.0\n",
      "ProductID                   4\n",
      "Quantity                    1\n",
      "Name: 1, dtype: object\n"
     ]
    }
   ],
   "source": [
    "print(df.iloc[1])"
   ]
  },
  {
   "cell_type": "code",
   "execution_count": 17,
   "id": "aa5280bc-a1a3-4f29-9ca5-20eb1cdd6688",
   "metadata": {},
   "outputs": [
    {
     "name": "stdout",
     "output_type": "stream",
     "text": [
      "   TransactionID TransactionDate  UserID  ProductID  Quantity\n",
      "5              6      2013-12-23     2.0          5         6\n"
     ]
    }
   ],
   "source": [
    "filtered_df = df[df['Quantity'] > 5]\n",
    "print(filtered_df)"
   ]
  },
  {
   "cell_type": "code",
   "execution_count": 19,
   "id": "04142bc1-eedb-4878-a35c-270d7400ed2d",
   "metadata": {},
   "outputs": [
    {
     "name": "stdout",
     "output_type": "stream",
     "text": [
      "   TransactionID TransactionDate   ID  ProductID  Q\n",
      "0              1      2010-08-21  7.0          2  1\n",
      "1              2      2011-05-26  3.0          4  1\n",
      "2              3      2011-06-16  3.0          3  1\n",
      "3              4      2012-08-26  1.0          2  3\n",
      "4              5      2013-06-06  2.0          4  1\n",
      "5              6      2013-12-23  2.0          5  6\n",
      "6              7      2013-12-30  3.0          4  1\n",
      "7              8      2014-04-24  NaN          2  3\n",
      "8              9      2015-04-24  7.0          4  3\n",
      "9             10      2016-05-08  3.0          4  4\n"
     ]
    }
   ],
   "source": [
    "df.rename(columns={'UserID': 'ID', 'Quantity': 'Q'},inplace=True) \n",
    "print(df)"
   ]
  },
  {
   "cell_type": "code",
   "execution_count": 20,
   "id": "6daf1713-f5e5-4158-98f2-3744ddd19bb4",
   "metadata": {},
   "outputs": [
    {
     "name": "stdout",
     "output_type": "stream",
     "text": [
      "TransactionID      0\n",
      "TransactionDate    0\n",
      "ID                 1\n",
      "ProductID          0\n",
      "Q                  0\n",
      "dtype: int64\n"
     ]
    }
   ],
   "source": [
    "print(df.isnull().sum())"
   ]
  },
  {
   "cell_type": "code",
   "execution_count": 21,
   "id": "8b9c56f7-cab3-4d7e-8482-00e780cf9ab8",
   "metadata": {},
   "outputs": [
    {
     "name": "stdout",
     "output_type": "stream",
     "text": [
      "0    7.000000\n",
      "1    3.000000\n",
      "2    3.000000\n",
      "3    1.000000\n",
      "4    2.000000\n",
      "5    2.000000\n",
      "6    3.000000\n",
      "7    3.444444\n",
      "8    7.000000\n",
      "9    3.000000\n",
      "Name: ID, dtype: float64\n"
     ]
    }
   ],
   "source": [
    "s=df['ID'].fillna(df['ID'].mean(), inplace=False)\n",
    "print(s)"
   ]
  },
  {
   "cell_type": "code",
   "execution_count": 22,
   "id": "1a1f651c-813b-450a-bc17-e69aa18f48a4",
   "metadata": {},
   "outputs": [
    {
     "name": "stdout",
     "output_type": "stream",
     "text": [
      "   TransactionID TransactionDate        ID  ProductID  Q\n",
      "0              1      2010-08-21  7.000000          2  1\n",
      "1              2      2011-05-26  3.000000          4  1\n",
      "2              3      2011-06-16  3.000000          3  1\n",
      "3              4      2012-08-26  1.000000          2  3\n",
      "4              5      2013-06-06  2.000000          4  1\n",
      "5              6      2013-12-23  2.000000          5  6\n",
      "6              7      2013-12-30  3.000000          4  1\n",
      "7              8      2014-04-24  3.444444          2  3\n",
      "8              9      2015-04-24  7.000000          4  3\n",
      "9             10      2016-05-08  3.000000          4  4\n"
     ]
    }
   ],
   "source": [
    "df['ID'].fillna(df['ID'].mean(), inplace=True)\n",
    "print(df)"
   ]
  },
  {
   "cell_type": "code",
   "execution_count": 23,
   "id": "df721d3f-27f5-45b1-910a-aa4ac6f4f5fc",
   "metadata": {},
   "outputs": [
    {
     "name": "stdout",
     "output_type": "stream",
     "text": [
      "   TransactionID TransactionDate        ID  ProductID  Q\n",
      "0              1      2010-08-21  7.000000          2  1\n",
      "1              2      2011-05-26  3.000000          4  1\n",
      "2              3      2011-06-16  3.000000          3  1\n",
      "3              4      2012-08-26  1.000000          2  3\n",
      "4              5      2013-06-06  2.000000          4  1\n",
      "5              6      2013-12-23  2.000000          5  6\n",
      "6              7      2013-12-30  3.000000          4  1\n",
      "7              8      2014-04-24  3.444444          2  3\n",
      "8              9      2015-04-24  7.000000          4  3\n",
      "9             10      2016-05-08  3.000000          4  4\n"
     ]
    }
   ],
   "source": [
    "df.dropna(inplace=True)\n",
    "print(df)"
   ]
  },
  {
   "cell_type": "code",
   "execution_count": 24,
   "id": "505bd8c0-0d7a-45c9-bf8d-a3a5125f680a",
   "metadata": {},
   "outputs": [
    {
     "name": "stdout",
     "output_type": "stream",
     "text": [
      "   TransactionID TransactionDate        ID  ProductID  Q\n",
      "6              7      2013-12-30  3.000000          4  1\n",
      "4              5      2013-06-06  2.000000          4  1\n",
      "2              3      2011-06-16  3.000000          3  1\n",
      "1              2      2011-05-26  3.000000          4  1\n",
      "0              1      2010-08-21  7.000000          2  1\n",
      "8              9      2015-04-24  7.000000          4  3\n",
      "7              8      2014-04-24  3.444444          2  3\n",
      "3              4      2012-08-26  1.000000          2  3\n",
      "9             10      2016-05-08  3.000000          4  4\n",
      "5              6      2013-12-23  2.000000          5  6\n"
     ]
    }
   ],
   "source": [
    "df_sorted = df.sort_values(by=[\"Q\", \"TransactionDate\"],\n",
    "ascending=[True, False])\n",
    "print(df_sorted)"
   ]
  },
  {
   "cell_type": "code",
   "execution_count": 25,
   "id": "87f97439-bb29-4c10-8260-39ede4a3a95d",
   "metadata": {},
   "outputs": [
    {
     "name": "stdout",
     "output_type": "stream",
     "text": [
      "   TransactionID TransactionDate   ID  ProductID  Q\n",
      "6              7      2013-12-30  3.0          4  1\n",
      "4              5      2013-06-06  2.0          4  1\n",
      "2              3      2011-06-16  3.0          3  1\n",
      "1              2      2011-05-26  3.0          4  1\n",
      "0              1      2010-08-21  7.0          2  1\n"
     ]
    }
   ],
   "source": [
    "df_sorted = df.sort_values(by=[\"Q\", \"TransactionDate\"],\n",
    "ascending=[True, False])\n",
    "print(df_sorted.head())"
   ]
  },
  {
   "cell_type": "code",
   "execution_count": 26,
   "id": "70ccc568-ffd1-45df-a0db-2f84fd0c8bdc",
   "metadata": {},
   "outputs": [
    {
     "name": "stdout",
     "output_type": "stream",
     "text": [
      "   TransactionID TransactionDate        ID  ProductID  Q\n",
      "8              9      2015-04-24  7.000000          4  3\n",
      "7              8      2014-04-24  3.444444          2  3\n",
      "3              4      2012-08-26  1.000000          2  3\n",
      "9             10      2016-05-08  3.000000          4  4\n",
      "5              6      2013-12-23  2.000000          5  6\n"
     ]
    }
   ],
   "source": [
    "df_sorted = df.sort_values(by=[\"Q\", \"TransactionDate\"],\n",
    "ascending=[True, False])\n",
    "print(df_sorted.tail())"
   ]
  },
  {
   "cell_type": "code",
   "execution_count": 27,
   "id": "a7c58544-d880-4e17-ad4a-a9ab45ef416a",
   "metadata": {},
   "outputs": [
    {
     "name": "stdout",
     "output_type": "stream",
     "text": [
      "   TransactionID TransactionDate        ID  ProductID  Q\n",
      "0              1      2010-08-21  7.000000          2  1\n",
      "1              2      2011-05-26  3.000000          4  1\n",
      "2              3      2011-06-16  3.000000          3  1\n",
      "4              5      2013-06-06  2.000000          4  1\n",
      "6              7      2013-12-30  3.000000          4  1\n",
      "3              4      2012-08-26  1.000000          2  3\n",
      "7              8      2014-04-24  3.444444          2  3\n",
      "8              9      2015-04-24  7.000000          4  3\n",
      "9             10      2016-05-08  3.000000          4  4\n",
      "5              6      2013-12-23  2.000000          5  6\n"
     ]
    }
   ],
   "source": [
    "df_sorted = df.sort_values(by=[\"Q\", \"TransactionDate\"],\n",
    "ascending=[True, True])\n",
    "print(df_sorted)"
   ]
  },
  {
   "cell_type": "code",
   "execution_count": 28,
   "id": "08726e9c-a0c2-4ced-9c9e-1c17db1de6aa",
   "metadata": {},
   "outputs": [
    {
     "name": "stdout",
     "output_type": "stream",
     "text": [
      "   TransactionID TransactionDate        ID  ProductID  Q\n",
      "3              4      2012-08-26  1.000000          2  3\n",
      "5              6      2013-12-23  2.000000          5  6\n",
      "7              8      2014-04-24  3.444444          2  3\n",
      "8              9      2015-04-24  7.000000          4  3\n",
      "9             10      2016-05-08  3.000000          4  4\n"
     ]
    }
   ],
   "source": [
    "subset = df[df['Q'] > 1]\n",
    "print(subset)"
   ]
  },
  {
   "cell_type": "code",
   "execution_count": 29,
   "id": "eb30e198-db1e-44fd-9e5d-451a213268ee",
   "metadata": {},
   "outputs": [
    {
     "name": "stdout",
     "output_type": "stream",
     "text": [
      "   TransactionID TransactionDate   ID  ProductID  Q\n",
      "0              1      2010-08-21  7.0          2  1\n",
      "2              3      2011-06-16  3.0          3  1\n",
      "5              6      2013-12-23  2.0          5  6\n"
     ]
    }
   ],
   "source": [
    "subset_rows = df.iloc[[0, 2, 5]]\n",
    "print(subset_rows)"
   ]
  },
  {
   "cell_type": "code",
   "execution_count": 31,
   "id": "18aa7a68-9df8-4c58-b4c0-1349825b1edd",
   "metadata": {},
   "outputs": [
    {
     "name": "stdout",
     "output_type": "stream",
     "text": [
      "   TransactionID TransactionDate        ID  ProductID  Q\n",
      "0              1      2010-08-21  7.000000          2  1\n",
      "2              3      2011-06-16  3.000000          3  1\n",
      "4              5      2013-06-06  2.000000          4  1\n",
      "6              7      2013-12-30  3.000000          4  1\n",
      "7              8      2014-04-24  3.444444          2  3\n",
      "9             10      2016-05-08  3.000000          4  4\n"
     ]
    }
   ],
   "source": [
    "\n",
    "foo = [True, False, True, False,True,False,True,True,False,True]\n",
    "subset_rows = df[foo]\n",
    "print(subset_rows)"
   ]
  },
  {
   "cell_type": "code",
   "execution_count": 33,
   "id": "8ac1d7fc-78eb-4b88-b69e-faffdee6d577",
   "metadata": {},
   "outputs": [
    {
     "name": "stdout",
     "output_type": "stream",
     "text": [
      "   TransactionID TransactionDate\n",
      "3              4      2012-08-26\n",
      "5              6      2013-12-23\n",
      "7              8      2014-04-24\n",
      "8              9      2015-04-24\n",
      "9             10      2016-05-08\n"
     ]
    }
   ],
   "source": [
    "subset = df[df['Q'] > 1][['TransactionID',\n",
    "'TransactionDate']]\n",
    "print(subset)"
   ]
  },
  {
   "cell_type": "code",
   "execution_count": 34,
   "id": "57a67566-97e6-4c8c-b4aa-435618021745",
   "metadata": {},
   "outputs": [
    {
     "name": "stdout",
     "output_type": "stream",
     "text": [
      "   TransactionID TransactionDate\n",
      "0              1      2010-08-21\n",
      "1              2      2011-05-26\n",
      "2              3      2011-06-16\n",
      "3              4      2012-08-26\n",
      "4              5      2013-06-06\n",
      "5              6      2013-12-23\n",
      "6              7      2013-12-30\n",
      "7              8      2014-04-24\n",
      "8              9      2015-04-24\n",
      "9             10      2016-05-08\n"
     ]
    }
   ],
   "source": [
    "columns_to_select = ['TransactionID', 'TransactionDate']\n",
    "subset_columns = df[columns_to_select]\n",
    "print(subset_columns)"
   ]
  },
  {
   "cell_type": "code",
   "execution_count": 36,
   "id": "56bdaa5a-d1a0-4601-bfe1-1b728d8a5680",
   "metadata": {},
   "outputs": [
    {
     "name": "stdout",
     "output_type": "stream",
     "text": [
      "   TransactionID TransactionDate        ID\n",
      "0              1      2010-08-21  7.000000\n",
      "1              2      2011-05-26  3.000000\n",
      "2              3      2011-06-16  3.000000\n",
      "3              4      2012-08-26  1.000000\n",
      "4              5      2013-06-06  2.000000\n",
      "5              6      2013-12-23  2.000000\n",
      "6              7      2013-12-30  3.000000\n",
      "7              8      2014-04-24  3.444444\n",
      "8              9      2015-04-24  7.000000\n",
      "9             10      2016-05-08  3.000000\n"
     ]
    }
   ],
   "source": [
    "columns_to_exclude = ['Q', 'ProductID']\n",
    "subset_columns_excluded = df[[col for col in df.columns if col not\n",
    "in columns_to_exclude]]\n",
    "print(subset_columns_excluded)"
   ]
  },
  {
   "cell_type": "code",
   "execution_count": 37,
   "id": "9e9c0475-9503-417d-b510-dc82cb8a00f3",
   "metadata": {},
   "outputs": [
    {
     "name": "stdout",
     "output_type": "stream",
     "text": [
      "TransactionID               int64\n",
      "TransactionDate    datetime64[ns]\n",
      "ID                        float64\n",
      "ProductID                   int64\n",
      "Q                           int64\n",
      "dtype: object\n"
     ]
    }
   ],
   "source": [
    "df['TransactionDate'] = pd.to_datetime(df['TransactionDate'])\n",
    "print(df.dtypes)"
   ]
  },
  {
   "cell_type": "code",
   "execution_count": 39,
   "id": "0ffeb880-af27-45cf-8017-413df88b970a",
   "metadata": {},
   "outputs": [
    {
     "name": "stdout",
     "output_type": "stream",
     "text": [
      "   TransactionID TransactionDate   ID  ProductID  Q  Foo\n",
      "0              1      2010-08-21  7.0          2  1  9.0\n",
      "1              2      2011-05-26  3.0          4  1  7.0\n",
      "2              3      2011-06-16  3.0          3  1  6.0\n",
      "3              4      2012-08-26  1.0          2  3  3.0\n",
      "4              5      2013-06-06  2.0          4  1  6.0\n"
     ]
    }
   ],
   "source": [
    "df['Foo'] = df['ID'] + df['ProductID']\n",
    "print(df.head())"
   ]
  },
  {
   "cell_type": "code",
   "execution_count": 42,
   "id": "59ef5c42-ec80-49b1-9242-676169a4be8a",
   "metadata": {},
   "outputs": [
    {
     "name": "stdout",
     "output_type": "stream",
     "text": [
      "   TransactionID      TransactionDate        ID ProductID  Q       Foo\n",
      "0              1  2010-08-21 00:00:00       7.0         2  1       9.0\n",
      "1              2  2011-05-26 00:00:00       3.0         4  1       7.0\n",
      "2              3  2011-06-16 00:00:00       3.0         3  1       6.0\n",
      "3              4  2012-08-26 00:00:00       1.0         2  3       3.0\n",
      "4              5  2013-06-06 00:00:00       2.0         4  1       6.0\n",
      "5              6  2013-12-23 00:00:00       2.0         5  6       7.0\n",
      "6              7  2013-12-30 00:00:00       3.0         4  1       7.0\n",
      "7              8  2014-04-24 00:00:00  3.444444         2  3  5.444444\n",
      "8              9  2015-04-24 00:00:00       7.0         4  3      11.0\n",
      "9             10  2016-05-08 00:00:00       3.0         4  4       7.0\n",
      "10            11           2003-07-17         1         5  3         6\n"
     ]
    }
   ],
   "source": [
    "df.loc[len(df)] = ['11','2003-07-17','1','5','3','6']\n",
    "print(df)"
   ]
  },
  {
   "cell_type": "code",
   "execution_count": 44,
   "id": "8c9bdd79-4629-4a8f-a5f7-18512414be7d",
   "metadata": {},
   "outputs": [
    {
     "name": "stdout",
     "output_type": "stream",
     "text": [
      "   TransactionID      TransactionDate        ID ProductID  Q       Foo\n",
      "0              1  2010-08-21 00:00:00       7.0         2  1       9.0\n",
      "1              2  2011-05-26 00:00:00       3.0         4  1       7.0\n",
      "2              3  2011-06-16 00:00:00       3.0         3  1       6.0\n",
      "3              4  2012-08-26 00:00:00       1.0         2  3       3.0\n",
      "4              5  2013-06-06 00:00:00       2.0         4  1       6.0\n",
      "5              6  2013-12-23 00:00:00       2.0         5  6       7.0\n",
      "6              7  2013-12-30 00:00:00       3.0         4  1       7.0\n",
      "7              8  2014-04-24 00:00:00  3.444444         2  3  5.444444\n",
      "8              9  2015-04-24 00:00:00       7.0         4  3      11.0\n",
      "9             10  2016-05-08 00:00:00       3.0         4  4       7.0\n",
      "10            11           2003-07-17         1         5  3         6\n"
     ]
    }
   ],
   "source": [
    "df.loc[df['ID'] == 11, 'Q'] = '6'\n",
    "print(df)"
   ]
  },
  {
   "cell_type": "code",
   "execution_count": 45,
   "id": "4fa7e45e-9b42-404b-9f7b-d6ad059c326b",
   "metadata": {},
   "outputs": [
    {
     "name": "stdout",
     "output_type": "stream",
     "text": [
      "   TransactionID      TransactionDate        ID ProductID  Q       Foo\n",
      "0              1  2010-08-21 00:00:00       7.0         2  1       9.0\n",
      "1              2  2011-05-26 00:00:00       3.0         4  1       7.0\n",
      "2              3  2011-06-16 00:00:00       3.0         3  1       6.0\n",
      "3              4  2012-08-26 00:00:00       1.0         2  8       3.0\n",
      "4              5  2013-06-06 00:00:00       2.0         4  1       6.0\n",
      "5              6  2013-12-23 00:00:00       2.0         5  6       7.0\n",
      "6              7  2013-12-30 00:00:00       3.0         4  1       7.0\n",
      "7              8  2014-04-24 00:00:00  3.444444         2  3  5.444444\n",
      "8              9  2015-04-24 00:00:00       7.0         4  3      11.0\n",
      "9             10  2016-05-08 00:00:00       3.0         4  4       7.0\n",
      "10            11           2003-07-17         1         5  3         6\n"
     ]
    }
   ],
   "source": [
    "df.loc[df['ID'] == 1, 'Q'] = '8'\n",
    "print(df)"
   ]
  },
  {
   "cell_type": "code",
   "execution_count": 47,
   "id": "e3557e17-78dd-49a9-b550-302c11e2fda4",
   "metadata": {},
   "outputs": [
    {
     "name": "stdout",
     "output_type": "stream",
     "text": [
      "  TransactionID      TransactionDate   ID ProductID  Q  Foo NewColumn\n",
      "0             1  2010-08-21 00:00:00  7.0         2  1  9.0         2\n",
      "1             2  2011-05-26 00:00:00  3.0         4  1  7.0         2\n",
      "2             3  2011-06-16 00:00:00  3.0         3  1  6.0         2\n",
      "3             4  2012-08-26 00:00:00  1.0         2  8  3.0        88\n",
      "4             5  2013-06-06 00:00:00  2.0         4  1  6.0         2\n"
     ]
    }
   ],
   "source": [
    "df['NewColumn'] = df['Q'] * 2\n",
    "print(df.head())"
   ]
  },
  {
   "cell_type": "code",
   "execution_count": 50,
   "id": "1a5ca0dc-d79f-423b-9229-dcef7860e3c5",
   "metadata": {},
   "outputs": [
    {
     "name": "stdout",
     "output_type": "stream",
     "text": [
      "   TransactionID TransactionDate        ID ProductID  Q       Foo NewColumn\n",
      "0              1      2010-08-21       7.0         2  1       9.0         2\n",
      "1              2      2011-05-26       3.0         4  1       7.0         2\n",
      "2              3      2011-06-16       3.0         3  1       6.0         2\n",
      "3              4      2012-08-26       1.0         2  8       3.0        88\n",
      "4              5      2013-06-06       2.0         4  1       6.0         2\n",
      "5              6      2013-12-23       2.0         5  6       7.0        12\n",
      "6              7      2013-12-30       3.0         4  1       7.0         2\n",
      "7              8      2014-04-24  3.444444         2  3  5.444444         6\n",
      "8              9      2015-04-24       7.0         4  3      11.0         6\n",
      "9             10      2016-05-08       3.0         4  4       7.0         8\n",
      "10            11      2003-07-17         1         5  3         6        33\n"
     ]
    }
   ],
   "source": [
    "df['TransactionDate']=pd.to_datetime(df['TransactionDate'])\n",
    "print(df)"
   ]
  },
  {
   "cell_type": "code",
   "execution_count": 51,
   "id": "fec37a5d-e4bc-4c7d-ba7e-3d3cf5aa9045",
   "metadata": {},
   "outputs": [
    {
     "name": "stdout",
     "output_type": "stream",
     "text": [
      "                     TransactionDate\n",
      "count                             11\n",
      "mean   2012-06-16 19:38:10.909090816\n",
      "min              2003-07-17 00:00:00\n",
      "25%              2011-06-05 12:00:00\n",
      "50%              2013-06-06 00:00:00\n",
      "75%              2014-02-25 12:00:00\n",
      "max              2016-05-08 00:00:00\n"
     ]
    }
   ],
   "source": [
    "#Exercise:\n",
    "#1. Print Summary of transaction data set\n",
    "print(df.describe())\n"
   ]
  },
  {
   "cell_type": "code",
   "execution_count": 53,
   "id": "55de8288-aeda-466a-8877-cac146c7c926",
   "metadata": {},
   "outputs": [
    {
     "name": "stdout",
     "output_type": "stream",
     "text": [
      "TransactionID      11\n",
      "TransactionDate    11\n",
      "ID                 11\n",
      "ProductID          11\n",
      "Q                  11\n",
      "Foo                11\n",
      "NewColumn          11\n",
      "dtype: int64\n"
     ]
    }
   ],
   "source": [
    "#2. Print Numbers of Attribute\n",
    "print(df.count())"
   ]
  },
  {
   "cell_type": "code",
   "execution_count": 12,
   "id": "f04ced43-3db9-4b8c-9718-3c5702f6d46c",
   "metadata": {},
   "outputs": [
    {
     "name": "stdout",
     "output_type": "stream",
     "text": [
      "   TransactionID TransactionDate  UserID  ProductID  Quantity\n",
      "0              1      2010-08-21     7.0          2         1\n",
      "1              2      2011-05-26     3.0          4         1\n",
      "2              3      2011-06-16     3.0          3         1\n",
      "3              4      2012-08-26     1.0          2         3\n",
      "4              5      2013-06-06     2.0          4         1\n",
      "5              6      2013-12-23     2.0          5         6\n",
      "6              7      2013-12-30     3.0          4         1\n",
      "7              8      2014-04-24     NaN          2         3\n",
      "8              9      2015-04-24     7.0          4         3\n",
      "9             10      2016-05-08     3.0          4         4\n"
     ]
    }
   ],
   "source": [
    "df=pd.read_csv('/home/user/Downloads/transactions.csv')\n",
    "print(df)"
   ]
  },
  {
   "cell_type": "code",
   "execution_count": 55,
   "id": "c99c4cbe-dc11-428a-803f-0d00a30b3f31",
   "metadata": {},
   "outputs": [
    {
     "name": "stdout",
     "output_type": "stream",
     "text": [
      "       TransactionID    UserID  ProductID   Quantity\n",
      "count       10.00000  9.000000  10.000000  10.000000\n",
      "mean         5.50000  3.444444   3.400000   2.400000\n",
      "std          3.02765  2.127858   1.074968   1.712698\n",
      "min          1.00000  1.000000   2.000000   1.000000\n",
      "25%          3.25000  2.000000   2.250000   1.000000\n",
      "50%          5.50000  3.000000   4.000000   2.000000\n",
      "75%          7.75000  3.000000   4.000000   3.000000\n",
      "max         10.00000  7.000000   5.000000   6.000000\n"
     ]
    }
   ],
   "source": [
    "#Exercise:\n",
    "#1. Print Summary of transaction data set\n",
    "print(df.describe())\n"
   ]
  },
  {
   "cell_type": "code",
   "execution_count": 75,
   "id": "a14a924a-7b18-4ac9-b004-82e91b72d567",
   "metadata": {},
   "outputs": [
    {
     "name": "stdout",
     "output_type": "stream",
     "text": [
      "5\n"
     ]
    }
   ],
   "source": [
    "#2. Print Numbers of Attribute\n",
    "df=df.count()\n",
    "print(df)"
   ]
  },
  {
   "cell_type": "code",
   "execution_count": 88,
   "id": "f9a33a5d-2faa-4335-8ace-c7c24adfcb84",
   "metadata": {},
   "outputs": [
    {
     "name": "stdout",
     "output_type": "stream",
     "text": [
      "10\n"
     ]
    }
   ],
   "source": [
    "#3. Print Numbers of Records\n",
    "a=df.shape[0]\n",
    "print(a)"
   ]
  },
  {
   "cell_type": "code",
   "execution_count": 95,
   "id": "1cd925c5-5db4-49ee-9340-25512d844c9e",
   "metadata": {},
   "outputs": [
    {
     "name": "stdout",
     "output_type": "stream",
     "text": [
      "[0, 1, 2, 3, 4, 5, 6, 7, 8, 9]\n"
     ]
    }
   ],
   "source": [
    "#4. Get the row names\n",
    "b=df.index.tolist()\n",
    "print(b)"
   ]
  },
  {
   "cell_type": "code",
   "execution_count": 105,
   "id": "f8dc479d-6d5b-4690-99ca-3cf646a72a73",
   "metadata": {},
   "outputs": [
    {
     "name": "stdout",
     "output_type": "stream",
     "text": [
      "['TransactionID', 'TransactionDate', 'UserID', 'ProductID', 'Quantity']\n"
     ]
    }
   ],
   "source": [
    "#5. Get the column names\n",
    "d=df.columns.tolist()\n",
    "print(d)"
   ]
  },
  {
   "cell_type": "code",
   "execution_count": 106,
   "id": "f0566ab6-f086-48f3-90d0-d0452f7dfa81",
   "metadata": {},
   "outputs": [
    {
     "name": "stdout",
     "output_type": "stream",
     "text": [
      "   TransactionID TransactionDate  UserID  ProductID  Quantity\n",
      "0              1      2010-08-21     7.0          2         1\n",
      "1              2      2011-05-26     3.0          4         1\n",
      "2              3      2011-06-16     3.0          3         1\n",
      "3              4      2012-08-26     1.0          2         3\n",
      "4              5      2013-06-06     2.0          4         1\n",
      "5              6      2013-12-23     2.0          5         6\n",
      "6              7      2013-12-30     3.0          4         1\n",
      "7              8      2014-04-24     NaN          2         3\n",
      "8              9      2015-04-24     7.0          4         3\n",
      "9             10      2016-05-08     3.0          4         4\n"
     ]
    }
   ],
   "source": [
    "#6. View top 10 Records\n",
    "print(df.head(10))"
   ]
  },
  {
   "cell_type": "code",
   "execution_count": 111,
   "id": "5b266599-eef7-4edf-bdc1-dd2cccc05d73",
   "metadata": {},
   "outputs": [
    {
     "name": "stdout",
     "output_type": "stream",
     "text": [
      "   TransactionID TransactionDate  UserID  ProductID  Quant\n",
      "0              1      2010-08-21     7.0          2      1\n",
      "1              2      2011-05-26     3.0          4      1\n",
      "2              3      2011-06-16     3.0          3      1\n",
      "3              4      2012-08-26     1.0          2      3\n",
      "4              5      2013-06-06     2.0          4      1\n",
      "5              6      2013-12-23     2.0          5      6\n",
      "6              7      2013-12-30     3.0          4      1\n",
      "7              8      2014-04-24     NaN          2      3\n",
      "8              9      2015-04-24     7.0          4      3\n",
      "9             10      2016-05-08     3.0          4      4\n"
     ]
    }
   ],
   "source": [
    "#7.Change the name of column “ Quantity” to “Quant”\n",
    "df.rename(columns={'Quantity': 'Quant'},inplace=True) \n",
    "print(df)"
   ]
  },
  {
   "cell_type": "code",
   "execution_count": 4,
   "id": "5f42262b-5db7-4dd1-b931-772066b393ba",
   "metadata": {},
   "outputs": [
    {
     "name": "stdout",
     "output_type": "stream",
     "text": [
      "   TransactionID TransactionDate  UID  pid  Quantity\n",
      "0              1      2010-08-21  7.0    2         1\n",
      "1              2      2011-05-26  3.0    4         1\n",
      "2              3      2011-06-16  3.0    3         1\n",
      "3              4      2012-08-26  1.0    2         3\n",
      "4              5      2013-06-06  2.0    4         1\n",
      "5              6      2013-12-23  2.0    5         6\n",
      "6              7      2013-12-30  3.0    4         1\n",
      "7              8      2014-04-24  NaN    2         3\n",
      "8              9      2015-04-24  7.0    4         3\n",
      "9             10      2016-05-08  3.0    4         4\n"
     ]
    }
   ],
   "source": [
    "#8.Change the name of columns ProductID and UserID\n",
    "df.rename(columns={'ProductID': 'pid','UserID':'UID'},inplace=True) \n",
    "print(df)"
   ]
  },
  {
   "cell_type": "code",
   "execution_count": 9,
   "id": "ce118288-1dfb-4eb8-9634-32c59e29d787",
   "metadata": {},
   "outputs": [
    {
     "name": "stdout",
     "output_type": "stream",
     "text": [
      "   TransactionID TransactionDate  UID  pid  Quantity\n",
      "0              1      2010-08-21  7.0    2         1\n",
      "1              2      2011-05-26  3.0    4         1\n",
      "2              3      2011-06-16  3.0    3         1\n",
      "3              4      2012-08-26  1.0    2         3\n",
      "4              5      2013-06-06  2.0    4         1\n",
      "5              6      2013-12-23  2.0    5         6\n",
      "6              7      2013-12-30  3.0    4         1\n",
      "7              8      2014-04-24  NaN    2         3\n",
      "8              9      2015-04-24  7.0    4         3\n",
      "9             10      2016-05-08  3.0    4         4\n"
     ]
    }
   ],
   "source": [
    "#9. Order the rows of transactions by TransactionId descending, if ascending then ascending=True\n",
    "df_sorted = df.sort_values(by=[\"TransactionID\"],ascending=[True])\n",
    "print(df_sorted.head(10))"
   ]
  },
  {
   "cell_type": "code",
   "execution_count": 8,
   "id": "b11ce2aa-a7dd-493c-acfd-c47d830b6d0c",
   "metadata": {},
   "outputs": [
    {
     "name": "stdout",
     "output_type": "stream",
     "text": [
      "   TransactionID TransactionDate  UID  pid  Quantity\n",
      "6              7      2013-12-30  3.0    4         1\n",
      "4              5      2013-06-06  2.0    4         1\n",
      "2              3      2011-06-16  3.0    3         1\n",
      "1              2      2011-05-26  3.0    4         1\n",
      "0              1      2010-08-21  7.0    2         1\n",
      "8              9      2015-04-24  7.0    4         3\n",
      "7              8      2014-04-24  NaN    2         3\n",
      "3              4      2012-08-26  1.0    2         3\n",
      "9             10      2016-05-08  3.0    4         4\n",
      "5              6      2013-12-23  2.0    5         6\n"
     ]
    }
   ],
   "source": [
    "#10. Order the rows of transactions by Quantity ascending, TransactionDate descending\n",
    "df_sorted = df.sort_values(by=[\"Quantity\", \"TransactionDate\"],\n",
    "ascending=[True, False])\n",
    "print(df_sorted.head(10))"
   ]
  },
  {
   "cell_type": "code",
   "execution_count": 14,
   "id": "bfc2d29b-1d26-4517-9ca1-905053b810a7",
   "metadata": {},
   "outputs": [
    {
     "name": "stdout",
     "output_type": "stream",
     "text": [
      "   pid  Quantity TransactionDate  TransactionID  UID\n",
      "0    2         1      2010-08-21              1  7.0\n",
      "1    4         1      2011-05-26              2  3.0\n",
      "2    3         1      2011-06-16              3  3.0\n",
      "3    2         3      2012-08-26              4  1.0\n",
      "4    4         1      2013-06-06              5  2.0\n",
      "5    5         6      2013-12-23              6  2.0\n",
      "6    4         1      2013-12-30              7  3.0\n",
      "7    2         3      2014-04-24              8  NaN\n",
      "8    4         3      2015-04-24              9  7.0\n",
      "9    4         4      2016-05-08             10  3.0\n"
     ]
    }
   ],
   "source": [
    "#11. Set the column order of Transactions as ProductID, Quantity, TransactionDate, TransactionID, UserID\n",
    "d=df[['pid', 'Quantity', 'TransactionDate', 'TransactionID', 'UID']]\n",
    "print(d)"
   ]
  },
  {
   "cell_type": "code",
   "execution_count": 16,
   "id": "27adaafa-054e-4cba-8b17-6a6fdd86d82e",
   "metadata": {},
   "outputs": [
    {
     "name": "stdout",
     "output_type": "stream",
     "text": [
      "   UID  TransactionID TransactionDate  pid  Quantity\n",
      "0  7.0              1      2010-08-21    2         1\n",
      "1  3.0              2      2011-05-26    4         1\n",
      "2  3.0              3      2011-06-16    3         1\n",
      "3  1.0              4      2012-08-26    2         3\n",
      "4  2.0              5      2013-06-06    4         1\n",
      "5  2.0              6      2013-12-23    5         6\n",
      "6  3.0              7      2013-12-30    4         1\n",
      "7  NaN              8      2014-04-24    2         3\n",
      "8  7.0              9      2015-04-24    4         3\n",
      "9  3.0             10      2016-05-08    4         4\n"
     ]
    }
   ],
   "source": [
    "#12. Make UserID the first column of transactions\n",
    "d=df[['UID', 'TransactionID', 'TransactionDate','pid','Quantity']]\n",
    "print(d)"
   ]
  },
  {
   "cell_type": "code",
   "execution_count": 18,
   "id": "f676d83b-009f-40dd-9452-699da8e370d3",
   "metadata": {},
   "outputs": [
    {
     "name": "stdout",
     "output_type": "stream",
     "text": [
      "['2010-08-21' '2011-05-26' '2011-06-16' '2012-08-26' '2013-06-06'\n",
      " '2013-12-23' '2013-12-30' '2014-04-24' '2015-04-24' '2016-05-08']\n"
     ]
    }
   ],
   "source": [
    "#13. Extracting arrays from a Data Frame. Get the 2nd column\n",
    "array = df.iloc[:, 1].values\n",
    "print(array)"
   ]
  },
  {
   "cell_type": "code",
   "execution_count": 19,
   "id": "d42d6545-93c8-44d4-ae89-ae20725aaa52",
   "metadata": {},
   "outputs": [
    {
     "name": "stdout",
     "output_type": "stream",
     "text": [
      "[2 4 3 2 4 5 4 2 4 4]\n"
     ]
    }
   ],
   "source": [
    "#14. Get the ProductID Array\n",
    "array = df.iloc[:, 3].values\n",
    "print(array)"
   ]
  },
  {
   "cell_type": "code",
   "execution_count": 20,
   "id": "fd1b14f0-dcb7-441f-b67e-7d63dc15785b",
   "metadata": {},
   "outputs": [
    {
     "data": {
      "text/html": [
       "<div>\n",
       "<style scoped>\n",
       "    .dataframe tbody tr th:only-of-type {\n",
       "        vertical-align: middle;\n",
       "    }\n",
       "\n",
       "    .dataframe tbody tr th {\n",
       "        vertical-align: top;\n",
       "    }\n",
       "\n",
       "    .dataframe thead th {\n",
       "        text-align: right;\n",
       "    }\n",
       "</style>\n",
       "<table border=\"1\" class=\"dataframe\">\n",
       "  <thead>\n",
       "    <tr style=\"text-align: right;\">\n",
       "      <th></th>\n",
       "      <th>TransactionID</th>\n",
       "      <th>TransactionDate</th>\n",
       "      <th>UID</th>\n",
       "      <th>pid</th>\n",
       "      <th>Quantity</th>\n",
       "    </tr>\n",
       "  </thead>\n",
       "  <tbody>\n",
       "    <tr>\n",
       "      <th>0</th>\n",
       "      <td>1</td>\n",
       "      <td>2010-08-21</td>\n",
       "      <td>7.0</td>\n",
       "      <td>2</td>\n",
       "      <td>1</td>\n",
       "    </tr>\n",
       "    <tr>\n",
       "      <th>1</th>\n",
       "      <td>2</td>\n",
       "      <td>2011-05-26</td>\n",
       "      <td>3.0</td>\n",
       "      <td>4</td>\n",
       "      <td>1</td>\n",
       "    </tr>\n",
       "    <tr>\n",
       "      <th>2</th>\n",
       "      <td>3</td>\n",
       "      <td>2011-06-16</td>\n",
       "      <td>3.0</td>\n",
       "      <td>3</td>\n",
       "      <td>1</td>\n",
       "    </tr>\n",
       "    <tr>\n",
       "      <th>3</th>\n",
       "      <td>4</td>\n",
       "      <td>2012-08-26</td>\n",
       "      <td>1.0</td>\n",
       "      <td>2</td>\n",
       "      <td>3</td>\n",
       "    </tr>\n",
       "    <tr>\n",
       "      <th>4</th>\n",
       "      <td>5</td>\n",
       "      <td>2013-06-06</td>\n",
       "      <td>2.0</td>\n",
       "      <td>4</td>\n",
       "      <td>1</td>\n",
       "    </tr>\n",
       "    <tr>\n",
       "      <th>5</th>\n",
       "      <td>6</td>\n",
       "      <td>2013-12-23</td>\n",
       "      <td>2.0</td>\n",
       "      <td>5</td>\n",
       "      <td>6</td>\n",
       "    </tr>\n",
       "    <tr>\n",
       "      <th>6</th>\n",
       "      <td>7</td>\n",
       "      <td>2013-12-30</td>\n",
       "      <td>3.0</td>\n",
       "      <td>4</td>\n",
       "      <td>1</td>\n",
       "    </tr>\n",
       "    <tr>\n",
       "      <th>7</th>\n",
       "      <td>8</td>\n",
       "      <td>2014-04-24</td>\n",
       "      <td>NaN</td>\n",
       "      <td>2</td>\n",
       "      <td>3</td>\n",
       "    </tr>\n",
       "    <tr>\n",
       "      <th>8</th>\n",
       "      <td>9</td>\n",
       "      <td>2015-04-24</td>\n",
       "      <td>7.0</td>\n",
       "      <td>4</td>\n",
       "      <td>3</td>\n",
       "    </tr>\n",
       "    <tr>\n",
       "      <th>9</th>\n",
       "      <td>10</td>\n",
       "      <td>2016-05-08</td>\n",
       "      <td>3.0</td>\n",
       "      <td>4</td>\n",
       "      <td>4</td>\n",
       "    </tr>\n",
       "  </tbody>\n",
       "</table>\n",
       "</div>"
      ],
      "text/plain": [
       "   TransactionID TransactionDate  UID  pid  Quantity\n",
       "0              1      2010-08-21  7.0    2         1\n",
       "1              2      2011-05-26  3.0    4         1\n",
       "2              3      2011-06-16  3.0    3         1\n",
       "3              4      2012-08-26  1.0    2         3\n",
       "4              5      2013-06-06  2.0    4         1\n",
       "5              6      2013-12-23  2.0    5         6\n",
       "6              7      2013-12-30  3.0    4         1\n",
       "7              8      2014-04-24  NaN    2         3\n",
       "8              9      2015-04-24  7.0    4         3\n",
       "9             10      2016-05-08  3.0    4         4"
      ]
     },
     "execution_count": 20,
     "metadata": {},
     "output_type": "execute_result"
    }
   ],
   "source": [
    "#15. Get the ProductId array using the following variable\n",
    "df"
   ]
  },
  {
   "cell_type": "code",
   "execution_count": 21,
   "id": "a36f7206-4c4e-4d50-95f1-774a63413e1d",
   "metadata": {},
   "outputs": [
    {
     "name": "stdout",
     "output_type": "stream",
     "text": [
      "   TransactionID TransactionDate  UID  pid  Quantity\n",
      "0              1      2010-08-21  7.0    2         1\n",
      "2              3      2011-06-16  3.0    3         1\n",
      "5              6      2013-12-23  2.0    5         6\n"
     ]
    }
   ],
   "source": [
    "#16.Row subsetting, subset rows 1,3 and 6\n",
    "subset_rows = df.iloc[[0, 2, 5]]\n",
    "print(subset_rows)"
   ]
  },
  {
   "cell_type": "code",
   "execution_count": 23,
   "id": "4cb47b64-a1d5-4a90-9df1-ecc3435ca3c6",
   "metadata": {},
   "outputs": [
    {
     "name": "stdout",
     "output_type": "stream",
     "text": [
      "   TransactionID TransactionDate  UID  pid  Quantity\n",
      "1              2      2011-05-26  3.0    4         1\n",
      "3              4      2012-08-26  1.0    2         3\n",
      "4              5      2013-06-06  2.0    4         1\n",
      "6              7      2013-12-30  3.0    4         1\n"
     ]
    }
   ],
   "source": [
    "#17. subset rows excluding 1,3 and 6\n",
    "subset_rows = df.iloc[[1, 3, 4, 6]]\n",
    "print(subset_rows)"
   ]
  },
  {
   "cell_type": "code",
   "execution_count": 24,
   "id": "950bdf22-8a25-42b7-8549-3a9787f3e905",
   "metadata": {},
   "outputs": [
    {
     "name": "stdout",
     "output_type": "stream",
     "text": [
      "   TransactionID TransactionDate  UID  pid  Quantity\n",
      "0              1      2010-08-21  7.0    2         1\n",
      "1              2      2011-05-26  3.0    4         1\n",
      "2              3      2011-06-16  3.0    3         1\n"
     ]
    }
   ],
   "source": [
    "#18. Subset the first three rows\n",
    "subset_rows = df.iloc[[0,1,2]]\n",
    "print(subset_rows)"
   ]
  },
  {
   "cell_type": "code",
   "execution_count": 25,
   "id": "2f89e395-0d78-4173-8a2c-0bf3b4caa780",
   "metadata": {},
   "outputs": [
    {
     "data": {
      "text/html": [
       "<div>\n",
       "<style scoped>\n",
       "    .dataframe tbody tr th:only-of-type {\n",
       "        vertical-align: middle;\n",
       "    }\n",
       "\n",
       "    .dataframe tbody tr th {\n",
       "        vertical-align: top;\n",
       "    }\n",
       "\n",
       "    .dataframe thead th {\n",
       "        text-align: right;\n",
       "    }\n",
       "</style>\n",
       "<table border=\"1\" class=\"dataframe\">\n",
       "  <thead>\n",
       "    <tr style=\"text-align: right;\">\n",
       "      <th></th>\n",
       "      <th>TransactionID</th>\n",
       "      <th>TransactionDate</th>\n",
       "      <th>UID</th>\n",
       "      <th>pid</th>\n",
       "      <th>Quantity</th>\n",
       "    </tr>\n",
       "  </thead>\n",
       "  <tbody>\n",
       "    <tr>\n",
       "      <th>0</th>\n",
       "      <td>1</td>\n",
       "      <td>2010-08-21</td>\n",
       "      <td>7.0</td>\n",
       "      <td>2</td>\n",
       "      <td>1</td>\n",
       "    </tr>\n",
       "    <tr>\n",
       "      <th>1</th>\n",
       "      <td>2</td>\n",
       "      <td>2011-05-26</td>\n",
       "      <td>3.0</td>\n",
       "      <td>4</td>\n",
       "      <td>1</td>\n",
       "    </tr>\n",
       "    <tr>\n",
       "      <th>2</th>\n",
       "      <td>3</td>\n",
       "      <td>2011-06-16</td>\n",
       "      <td>3.0</td>\n",
       "      <td>3</td>\n",
       "      <td>1</td>\n",
       "    </tr>\n",
       "  </tbody>\n",
       "</table>\n",
       "</div>"
      ],
      "text/plain": [
       "   TransactionID TransactionDate  UID  pid  Quantity\n",
       "0              1      2010-08-21  7.0    2         1\n",
       "1              2      2011-05-26  3.0    4         1\n",
       "2              3      2011-06-16  3.0    3         1"
      ]
     },
     "execution_count": 25,
     "metadata": {},
     "output_type": "execute_result"
    }
   ],
   "source": [
    "#18. Subset the first three rows\n",
    "df.head(3)"
   ]
  },
  {
   "cell_type": "code",
   "execution_count": 26,
   "id": "86af6650-ab7f-414d-af5a-c760e2c5b594",
   "metadata": {},
   "outputs": [
    {
     "data": {
      "text/html": [
       "<div>\n",
       "<style scoped>\n",
       "    .dataframe tbody tr th:only-of-type {\n",
       "        vertical-align: middle;\n",
       "    }\n",
       "\n",
       "    .dataframe tbody tr th {\n",
       "        vertical-align: top;\n",
       "    }\n",
       "\n",
       "    .dataframe thead th {\n",
       "        text-align: right;\n",
       "    }\n",
       "</style>\n",
       "<table border=\"1\" class=\"dataframe\">\n",
       "  <thead>\n",
       "    <tr style=\"text-align: right;\">\n",
       "      <th></th>\n",
       "      <th>TransactionID</th>\n",
       "      <th>TransactionDate</th>\n",
       "      <th>UID</th>\n",
       "      <th>pid</th>\n",
       "      <th>Quantity</th>\n",
       "    </tr>\n",
       "  </thead>\n",
       "  <tbody>\n",
       "    <tr>\n",
       "      <th>0</th>\n",
       "      <td>1</td>\n",
       "      <td>2010-08-21</td>\n",
       "      <td>7.0</td>\n",
       "      <td>2</td>\n",
       "      <td>1</td>\n",
       "    </tr>\n",
       "    <tr>\n",
       "      <th>1</th>\n",
       "      <td>2</td>\n",
       "      <td>2011-05-26</td>\n",
       "      <td>3.0</td>\n",
       "      <td>4</td>\n",
       "      <td>1</td>\n",
       "    </tr>\n",
       "    <tr>\n",
       "      <th>2</th>\n",
       "      <td>3</td>\n",
       "      <td>2011-06-16</td>\n",
       "      <td>3.0</td>\n",
       "      <td>3</td>\n",
       "      <td>1</td>\n",
       "    </tr>\n",
       "  </tbody>\n",
       "</table>\n",
       "</div>"
      ],
      "text/plain": [
       "   TransactionID TransactionDate  UID  pid  Quantity\n",
       "0              1      2010-08-21  7.0    2         1\n",
       "1              2      2011-05-26  3.0    4         1\n",
       "2              3      2011-06-16  3.0    3         1"
      ]
     },
     "execution_count": 26,
     "metadata": {},
     "output_type": "execute_result"
    }
   ],
   "source": [
    "df.iloc[:3]"
   ]
  },
  {
   "cell_type": "code",
   "execution_count": 30,
   "id": "1194183d-4245-4d72-9913-eab3b96b28d3",
   "metadata": {},
   "outputs": [
    {
     "data": {
      "text/html": [
       "<div>\n",
       "<style scoped>\n",
       "    .dataframe tbody tr th:only-of-type {\n",
       "        vertical-align: middle;\n",
       "    }\n",
       "\n",
       "    .dataframe tbody tr th {\n",
       "        vertical-align: top;\n",
       "    }\n",
       "\n",
       "    .dataframe thead th {\n",
       "        text-align: right;\n",
       "    }\n",
       "</style>\n",
       "<table border=\"1\" class=\"dataframe\">\n",
       "  <thead>\n",
       "    <tr style=\"text-align: right;\">\n",
       "      <th></th>\n",
       "      <th>TransactionID</th>\n",
       "      <th>TransactionDate</th>\n",
       "      <th>UID</th>\n",
       "      <th>pid</th>\n",
       "      <th>Quantity</th>\n",
       "    </tr>\n",
       "  </thead>\n",
       "  <tbody>\n",
       "    <tr>\n",
       "      <th>8</th>\n",
       "      <td>9</td>\n",
       "      <td>2015-04-24</td>\n",
       "      <td>7.0</td>\n",
       "      <td>4</td>\n",
       "      <td>3</td>\n",
       "    </tr>\n",
       "    <tr>\n",
       "      <th>9</th>\n",
       "      <td>10</td>\n",
       "      <td>2016-05-08</td>\n",
       "      <td>3.0</td>\n",
       "      <td>4</td>\n",
       "      <td>4</td>\n",
       "    </tr>\n",
       "  </tbody>\n",
       "</table>\n",
       "</div>"
      ],
      "text/plain": [
       "   TransactionID TransactionDate  UID  pid  Quantity\n",
       "8              9      2015-04-24  7.0    4         3\n",
       "9             10      2016-05-08  3.0    4         4"
      ]
     },
     "execution_count": 30,
     "metadata": {},
     "output_type": "execute_result"
    }
   ],
   "source": [
    "#19. Subset the last 2 rows\n",
    "df.iloc[-2:]"
   ]
  },
  {
   "cell_type": "code",
   "execution_count": 31,
   "id": "db0e6f6c-96c2-47ea-a2e1-516a683f0c97",
   "metadata": {},
   "outputs": [
    {
     "data": {
      "text/html": [
       "<div>\n",
       "<style scoped>\n",
       "    .dataframe tbody tr th:only-of-type {\n",
       "        vertical-align: middle;\n",
       "    }\n",
       "\n",
       "    .dataframe tbody tr th {\n",
       "        vertical-align: top;\n",
       "    }\n",
       "\n",
       "    .dataframe thead th {\n",
       "        text-align: right;\n",
       "    }\n",
       "</style>\n",
       "<table border=\"1\" class=\"dataframe\">\n",
       "  <thead>\n",
       "    <tr style=\"text-align: right;\">\n",
       "      <th></th>\n",
       "      <th>TransactionID</th>\n",
       "      <th>TransactionDate</th>\n",
       "      <th>UID</th>\n",
       "      <th>pid</th>\n",
       "      <th>Quantity</th>\n",
       "    </tr>\n",
       "  </thead>\n",
       "  <tbody>\n",
       "    <tr>\n",
       "      <th>8</th>\n",
       "      <td>9</td>\n",
       "      <td>2015-04-24</td>\n",
       "      <td>7.0</td>\n",
       "      <td>4</td>\n",
       "      <td>3</td>\n",
       "    </tr>\n",
       "    <tr>\n",
       "      <th>9</th>\n",
       "      <td>10</td>\n",
       "      <td>2016-05-08</td>\n",
       "      <td>3.0</td>\n",
       "      <td>4</td>\n",
       "      <td>4</td>\n",
       "    </tr>\n",
       "  </tbody>\n",
       "</table>\n",
       "</div>"
      ],
      "text/plain": [
       "   TransactionID TransactionDate  UID  pid  Quantity\n",
       "8              9      2015-04-24  7.0    4         3\n",
       "9             10      2016-05-08  3.0    4         4"
      ]
     },
     "execution_count": 31,
     "metadata": {},
     "output_type": "execute_result"
    }
   ],
   "source": [
    "df.tail(2)"
   ]
  },
  {
   "cell_type": "code",
   "execution_count": 32,
   "id": "c724ec4c-0653-4fd4-94b8-b40166ab7719",
   "metadata": {},
   "outputs": [
    {
     "data": {
      "text/html": [
       "<div>\n",
       "<style scoped>\n",
       "    .dataframe tbody tr th:only-of-type {\n",
       "        vertical-align: middle;\n",
       "    }\n",
       "\n",
       "    .dataframe tbody tr th {\n",
       "        vertical-align: top;\n",
       "    }\n",
       "\n",
       "    .dataframe thead th {\n",
       "        text-align: right;\n",
       "    }\n",
       "</style>\n",
       "<table border=\"1\" class=\"dataframe\">\n",
       "  <thead>\n",
       "    <tr style=\"text-align: right;\">\n",
       "      <th></th>\n",
       "      <th>TransactionID</th>\n",
       "      <th>TransactionDate</th>\n",
       "      <th>UID</th>\n",
       "      <th>pid</th>\n",
       "      <th>Quantity</th>\n",
       "    </tr>\n",
       "  </thead>\n",
       "  <tbody>\n",
       "    <tr>\n",
       "      <th>0</th>\n",
       "      <td>1</td>\n",
       "      <td>2010-08-21</td>\n",
       "      <td>7.0</td>\n",
       "      <td>2</td>\n",
       "      <td>1</td>\n",
       "    </tr>\n",
       "    <tr>\n",
       "      <th>1</th>\n",
       "      <td>2</td>\n",
       "      <td>2011-05-26</td>\n",
       "      <td>3.0</td>\n",
       "      <td>4</td>\n",
       "      <td>1</td>\n",
       "    </tr>\n",
       "    <tr>\n",
       "      <th>2</th>\n",
       "      <td>3</td>\n",
       "      <td>2011-06-16</td>\n",
       "      <td>3.0</td>\n",
       "      <td>3</td>\n",
       "      <td>1</td>\n",
       "    </tr>\n",
       "    <tr>\n",
       "      <th>3</th>\n",
       "      <td>4</td>\n",
       "      <td>2012-08-26</td>\n",
       "      <td>1.0</td>\n",
       "      <td>2</td>\n",
       "      <td>3</td>\n",
       "    </tr>\n",
       "    <tr>\n",
       "      <th>4</th>\n",
       "      <td>5</td>\n",
       "      <td>2013-06-06</td>\n",
       "      <td>2.0</td>\n",
       "      <td>4</td>\n",
       "      <td>1</td>\n",
       "    </tr>\n",
       "    <tr>\n",
       "      <th>5</th>\n",
       "      <td>6</td>\n",
       "      <td>2013-12-23</td>\n",
       "      <td>2.0</td>\n",
       "      <td>5</td>\n",
       "      <td>6</td>\n",
       "    </tr>\n",
       "    <tr>\n",
       "      <th>6</th>\n",
       "      <td>7</td>\n",
       "      <td>2013-12-30</td>\n",
       "      <td>3.0</td>\n",
       "      <td>4</td>\n",
       "      <td>1</td>\n",
       "    </tr>\n",
       "    <tr>\n",
       "      <th>7</th>\n",
       "      <td>8</td>\n",
       "      <td>2014-04-24</td>\n",
       "      <td>NaN</td>\n",
       "      <td>2</td>\n",
       "      <td>3</td>\n",
       "    </tr>\n",
       "  </tbody>\n",
       "</table>\n",
       "</div>"
      ],
      "text/plain": [
       "   TransactionID TransactionDate  UID  pid  Quantity\n",
       "0              1      2010-08-21  7.0    2         1\n",
       "1              2      2011-05-26  3.0    4         1\n",
       "2              3      2011-06-16  3.0    3         1\n",
       "3              4      2012-08-26  1.0    2         3\n",
       "4              5      2013-06-06  2.0    4         1\n",
       "5              6      2013-12-23  2.0    5         6\n",
       "6              7      2013-12-30  3.0    4         1\n",
       "7              8      2014-04-24  NaN    2         3"
      ]
     },
     "execution_count": 32,
     "metadata": {},
     "output_type": "execute_result"
    }
   ],
   "source": [
    "#20. Subset rows excluding the last 2 rows\n",
    "df.iloc[:-2]"
   ]
  },
  {
   "cell_type": "code",
   "execution_count": 34,
   "id": "aff0e36d-1f1e-4d74-96ae-274d92da86d8",
   "metadata": {},
   "outputs": [
    {
     "data": {
      "text/html": [
       "<div>\n",
       "<style scoped>\n",
       "    .dataframe tbody tr th:only-of-type {\n",
       "        vertical-align: middle;\n",
       "    }\n",
       "\n",
       "    .dataframe tbody tr th {\n",
       "        vertical-align: top;\n",
       "    }\n",
       "\n",
       "    .dataframe thead th {\n",
       "        text-align: right;\n",
       "    }\n",
       "</style>\n",
       "<table border=\"1\" class=\"dataframe\">\n",
       "  <thead>\n",
       "    <tr style=\"text-align: right;\">\n",
       "      <th></th>\n",
       "      <th>TransactionID</th>\n",
       "      <th>TransactionDate</th>\n",
       "      <th>UID</th>\n",
       "      <th>pid</th>\n",
       "      <th>Quantity</th>\n",
       "    </tr>\n",
       "  </thead>\n",
       "  <tbody>\n",
       "    <tr>\n",
       "      <th>3</th>\n",
       "      <td>4</td>\n",
       "      <td>2012-08-26</td>\n",
       "      <td>1.0</td>\n",
       "      <td>2</td>\n",
       "      <td>3</td>\n",
       "    </tr>\n",
       "    <tr>\n",
       "      <th>4</th>\n",
       "      <td>5</td>\n",
       "      <td>2013-06-06</td>\n",
       "      <td>2.0</td>\n",
       "      <td>4</td>\n",
       "      <td>1</td>\n",
       "    </tr>\n",
       "    <tr>\n",
       "      <th>5</th>\n",
       "      <td>6</td>\n",
       "      <td>2013-12-23</td>\n",
       "      <td>2.0</td>\n",
       "      <td>5</td>\n",
       "      <td>6</td>\n",
       "    </tr>\n",
       "    <tr>\n",
       "      <th>6</th>\n",
       "      <td>7</td>\n",
       "      <td>2013-12-30</td>\n",
       "      <td>3.0</td>\n",
       "      <td>4</td>\n",
       "      <td>1</td>\n",
       "    </tr>\n",
       "    <tr>\n",
       "      <th>7</th>\n",
       "      <td>8</td>\n",
       "      <td>2014-04-24</td>\n",
       "      <td>NaN</td>\n",
       "      <td>2</td>\n",
       "      <td>3</td>\n",
       "    </tr>\n",
       "    <tr>\n",
       "      <th>8</th>\n",
       "      <td>9</td>\n",
       "      <td>2015-04-24</td>\n",
       "      <td>7.0</td>\n",
       "      <td>4</td>\n",
       "      <td>3</td>\n",
       "    </tr>\n",
       "    <tr>\n",
       "      <th>9</th>\n",
       "      <td>10</td>\n",
       "      <td>2016-05-08</td>\n",
       "      <td>3.0</td>\n",
       "      <td>4</td>\n",
       "      <td>4</td>\n",
       "    </tr>\n",
       "  </tbody>\n",
       "</table>\n",
       "</div>"
      ],
      "text/plain": [
       "   TransactionID TransactionDate  UID  pid  Quantity\n",
       "3              4      2012-08-26  1.0    2         3\n",
       "4              5      2013-06-06  2.0    4         1\n",
       "5              6      2013-12-23  2.0    5         6\n",
       "6              7      2013-12-30  3.0    4         1\n",
       "7              8      2014-04-24  NaN    2         3\n",
       "8              9      2015-04-24  7.0    4         3\n",
       "9             10      2016-05-08  3.0    4         4"
      ]
     },
     "execution_count": 34,
     "metadata": {},
     "output_type": "execute_result"
    }
   ],
   "source": [
    "#21. Subset rows excluding the first 3 rows\n",
    "df.iloc[3:]"
   ]
  },
  {
   "cell_type": "code",
   "execution_count": 37,
   "id": "45a92c5b-0d65-4ee9-b8aa-1ef8f6cd6d68",
   "metadata": {},
   "outputs": [
    {
     "name": "stdout",
     "output_type": "stream",
     "text": [
      "   TransactionID TransactionDate  UID  pid  Quantity\n",
      "3              4      2012-08-26  1.0    2         3\n",
      "5              6      2013-12-23  2.0    5         6\n",
      "7              8      2014-04-24  NaN    2         3\n",
      "8              9      2015-04-24  7.0    4         3\n",
      "9             10      2016-05-08  3.0    4         4\n"
     ]
    }
   ],
   "source": [
    "#22. Subset rows where Quantity>1\n",
    "subset = df[df['Quantity'] > 1]\n",
    "print(subset)"
   ]
  },
  {
   "cell_type": "code",
   "execution_count": 38,
   "id": "cfdf4fda-7eb2-4416-a2e9-85dc0df4cdf7",
   "metadata": {},
   "outputs": [
    {
     "name": "stdout",
     "output_type": "stream",
     "text": [
      "   TransactionID TransactionDate  UID  pid  Quantity\n",
      "0              1      2010-08-21  7.0    2         1\n",
      "1              2      2011-05-26  3.0    4         1\n",
      "2              3      2011-06-16  3.0    3         1\n",
      "4              5      2013-06-06  2.0    4         1\n",
      "6              7      2013-12-30  3.0    4         1\n"
     ]
    }
   ],
   "source": [
    "#23. Subset rows where UserID=2\n",
    "subset = df[df['Quantity'] == 1]\n",
    "print(subset)"
   ]
  },
  {
   "cell_type": "code",
   "execution_count": 40,
   "id": "cb674f63-75c8-41be-a56c-02ab461e8976",
   "metadata": {},
   "outputs": [
    {
     "name": "stdout",
     "output_type": "stream",
     "text": [
      "   TransactionID TransactionDate  UID  pid  Quantity\n",
      "5              6      2013-12-23  2.0    5         6\n"
     ]
    }
   ],
   "source": [
    "#24. Subset rows where Quantity>1 and UserID=2\n",
    "subset=df[(df['Quantity']>1) & (df['UID']==2)]\n",
    "print(subset)"
   ]
  },
  {
   "cell_type": "code",
   "execution_count": 44,
   "id": "df8bd28b-c332-4ebc-b598-177309325be9",
   "metadata": {},
   "outputs": [
    {
     "name": "stdout",
     "output_type": "stream",
     "text": [
      "   TransactionID TransactionDate  UID  pid  Quantity\n",
      "0              1      2010-08-21  7.0    2         1\n",
      "1              2      2011-05-26  3.0    4         1\n",
      "2              3      2011-06-16  3.0    3         1\n",
      "3              4      2012-08-26  1.0    2         3\n",
      "5              6      2013-12-23  2.0    5         6\n",
      "6              7      2013-12-30  3.0    4         1\n",
      "8              9      2015-04-24  7.0    4         3\n",
      "9             10      2016-05-08  3.0    4         4\n"
     ]
    }
   ],
   "source": [
    "#25. Subset rows where Quantity + UserID is >3\n",
    "subset=df[(df['Quantity']+df['UID'])>3]\n",
    "print(subset)"
   ]
  },
  {
   "cell_type": "code",
   "execution_count": 25,
   "id": "0d3c4e54-79bd-4542-bbdc-8671da9f8215",
   "metadata": {},
   "outputs": [
    {
     "name": "stdout",
     "output_type": "stream",
     "text": [
      "    foo\n",
      "0  True\n",
      "2  True\n",
      "4  True\n",
      "6  True\n",
      "7  True\n",
      "9  True\n"
     ]
    }
   ],
   "source": [
    "#26. Subset rows where an external array, foo, is True\n",
    "foo = [True, False, True, False,True,False,True,True,False,True]\n",
    "df = pd.DataFrame({'foo': foo})\n",
    "subset_rows = df[foo]\n",
    "print(subset_rows)\n"
   ]
  },
  {
   "cell_type": "code",
   "execution_count": 27,
   "id": "64601c4a-1086-4813-b99f-81790d282539",
   "metadata": {},
   "outputs": [
    {
     "name": "stdout",
     "output_type": "stream",
     "text": [
      "   bar\n",
      "0    1\n",
      "1    2\n",
      "4    4\n",
      "5    5\n",
      "8    4\n",
      "9    6\n"
     ]
    }
   ],
   "source": [
    "#27. Subset rows where an external array, bar, is positive\n",
    "bar=[1,2,-3,0,4,5,-9,-5,4,6]\n",
    "df = pd.DataFrame({'bar': bar})\n",
    "subset_rows=df[df['bar']>0]\n",
    "print(subset_rows)"
   ]
  },
  {
   "cell_type": "code",
   "execution_count": 31,
   "id": "4a31f41a-17e4-434f-9b2b-e1fdfc313865",
   "metadata": {},
   "outputs": [
    {
     "name": "stdout",
     "output_type": "stream",
     "text": [
      "     foo  bar\n",
      "1  false   -2\n",
      "2  false   -5\n",
      "4  false   -1\n"
     ]
    }
   ],
   "source": [
    "#28. Subset rows where foo is TRUE or bar is negative\n",
    "data = {'foo': ['true', 'false', 'false', 'true', 'false'],\n",
    "        'bar': [3, -2, -5, 7, -1]}\n",
    "df = pd.DataFrame(data)\n",
    "subset = df[(df['foo'] == 'false') & (df['bar'] < 0)]\n",
    "print(subset)\n",
    "\n"
   ]
  },
  {
   "cell_type": "code",
   "execution_count": 49,
   "id": "3d4b25e5-ab63-4a5f-a49a-50fe6f6605c4",
   "metadata": {},
   "outputs": [
    {
     "name": "stdout",
     "output_type": "stream",
     "text": [
      "   TransactionID TransactionDate  UID  pid  Quantity\n",
      "0              1      2010-08-21  7.0    2         1\n",
      "1              2      2011-05-26  3.0    4         1\n",
      "2              3      2011-06-16  3.0    3         1\n"
     ]
    }
   ],
   "source": [
    "#30. Subset by columns 1 and 3\n",
    "subset=df.iloc[:3]\n",
    "print(subset)"
   ]
  },
  {
   "cell_type": "code",
   "execution_count": 50,
   "id": "bee4fe3f-838e-4435-93c6-fee032aec89d",
   "metadata": {},
   "outputs": [
    {
     "data": {
      "text/html": [
       "<div>\n",
       "<style scoped>\n",
       "    .dataframe tbody tr th:only-of-type {\n",
       "        vertical-align: middle;\n",
       "    }\n",
       "\n",
       "    .dataframe tbody tr th {\n",
       "        vertical-align: top;\n",
       "    }\n",
       "\n",
       "    .dataframe thead th {\n",
       "        text-align: right;\n",
       "    }\n",
       "</style>\n",
       "<table border=\"1\" class=\"dataframe\">\n",
       "  <thead>\n",
       "    <tr style=\"text-align: right;\">\n",
       "      <th></th>\n",
       "      <th>TransactionID</th>\n",
       "      <th>TransactionDate</th>\n",
       "    </tr>\n",
       "  </thead>\n",
       "  <tbody>\n",
       "    <tr>\n",
       "      <th>0</th>\n",
       "      <td>1</td>\n",
       "      <td>2010-08-21</td>\n",
       "    </tr>\n",
       "    <tr>\n",
       "      <th>1</th>\n",
       "      <td>2</td>\n",
       "      <td>2011-05-26</td>\n",
       "    </tr>\n",
       "    <tr>\n",
       "      <th>2</th>\n",
       "      <td>3</td>\n",
       "      <td>2011-06-16</td>\n",
       "    </tr>\n",
       "    <tr>\n",
       "      <th>3</th>\n",
       "      <td>4</td>\n",
       "      <td>2012-08-26</td>\n",
       "    </tr>\n",
       "    <tr>\n",
       "      <th>4</th>\n",
       "      <td>5</td>\n",
       "      <td>2013-06-06</td>\n",
       "    </tr>\n",
       "    <tr>\n",
       "      <th>5</th>\n",
       "      <td>6</td>\n",
       "      <td>2013-12-23</td>\n",
       "    </tr>\n",
       "    <tr>\n",
       "      <th>6</th>\n",
       "      <td>7</td>\n",
       "      <td>2013-12-30</td>\n",
       "    </tr>\n",
       "    <tr>\n",
       "      <th>7</th>\n",
       "      <td>8</td>\n",
       "      <td>2014-04-24</td>\n",
       "    </tr>\n",
       "    <tr>\n",
       "      <th>8</th>\n",
       "      <td>9</td>\n",
       "      <td>2015-04-24</td>\n",
       "    </tr>\n",
       "    <tr>\n",
       "      <th>9</th>\n",
       "      <td>10</td>\n",
       "      <td>2016-05-08</td>\n",
       "    </tr>\n",
       "  </tbody>\n",
       "</table>\n",
       "</div>"
      ],
      "text/plain": [
       "   TransactionID TransactionDate\n",
       "0              1      2010-08-21\n",
       "1              2      2011-05-26\n",
       "2              3      2011-06-16\n",
       "3              4      2012-08-26\n",
       "4              5      2013-06-06\n",
       "5              6      2013-12-23\n",
       "6              7      2013-12-30\n",
       "7              8      2014-04-24\n",
       "8              9      2015-04-24\n",
       "9             10      2016-05-08"
      ]
     },
     "execution_count": 50,
     "metadata": {},
     "output_type": "execute_result"
    }
   ],
   "source": [
    "#31. Subset by columns TransactionID and TransactionDate\n",
    "df[[\"TransactionID\", \"TransactionDate\"]]\n"
   ]
  },
  {
   "cell_type": "code",
   "execution_count": 57,
   "id": "e4b08d0e-1947-475d-85eb-c76d4ad879b1",
   "metadata": {},
   "outputs": [
    {
     "data": {
      "text/html": [
       "<div>\n",
       "<style scoped>\n",
       "    .dataframe tbody tr th:only-of-type {\n",
       "        vertical-align: middle;\n",
       "    }\n",
       "\n",
       "    .dataframe tbody tr th {\n",
       "        vertical-align: top;\n",
       "    }\n",
       "\n",
       "    .dataframe thead th {\n",
       "        text-align: right;\n",
       "    }\n",
       "</style>\n",
       "<table border=\"1\" class=\"dataframe\">\n",
       "  <thead>\n",
       "    <tr style=\"text-align: right;\">\n",
       "      <th></th>\n",
       "      <th>TransactionID</th>\n",
       "      <th>TransactionDate</th>\n",
       "    </tr>\n",
       "  </thead>\n",
       "  <tbody>\n",
       "    <tr>\n",
       "      <th>0</th>\n",
       "      <td>1</td>\n",
       "      <td>2010-08-21</td>\n",
       "    </tr>\n",
       "    <tr>\n",
       "      <th>1</th>\n",
       "      <td>2</td>\n",
       "      <td>2011-05-26</td>\n",
       "    </tr>\n",
       "    <tr>\n",
       "      <th>2</th>\n",
       "      <td>3</td>\n",
       "      <td>2011-06-16</td>\n",
       "    </tr>\n",
       "    <tr>\n",
       "      <th>3</th>\n",
       "      <td>4</td>\n",
       "      <td>2012-08-26</td>\n",
       "    </tr>\n",
       "    <tr>\n",
       "      <th>4</th>\n",
       "      <td>5</td>\n",
       "      <td>2013-06-06</td>\n",
       "    </tr>\n",
       "    <tr>\n",
       "      <th>5</th>\n",
       "      <td>6</td>\n",
       "      <td>2013-12-23</td>\n",
       "    </tr>\n",
       "    <tr>\n",
       "      <th>6</th>\n",
       "      <td>7</td>\n",
       "      <td>2013-12-30</td>\n",
       "    </tr>\n",
       "    <tr>\n",
       "      <th>7</th>\n",
       "      <td>8</td>\n",
       "      <td>2014-04-24</td>\n",
       "    </tr>\n",
       "    <tr>\n",
       "      <th>8</th>\n",
       "      <td>9</td>\n",
       "      <td>2015-04-24</td>\n",
       "    </tr>\n",
       "  </tbody>\n",
       "</table>\n",
       "</div>"
      ],
      "text/plain": [
       "   TransactionID TransactionDate\n",
       "0              1      2010-08-21\n",
       "1              2      2011-05-26\n",
       "2              3      2011-06-16\n",
       "3              4      2012-08-26\n",
       "4              5      2013-06-06\n",
       "5              6      2013-12-23\n",
       "6              7      2013-12-30\n",
       "7              8      2014-04-24\n",
       "8              9      2015-04-24"
      ]
     },
     "execution_count": 57,
     "metadata": {},
     "output_type": "execute_result"
    }
   ],
   "source": [
    " #32.Subset by columns TransactionID and TransactionDate with logical operator\n",
    "df[df[\"TransactionID\"] <10][[\"TransactionID\", \"TransactionDate\"]]\n"
   ]
  },
  {
   "cell_type": "code",
   "execution_count": 58,
   "id": "5736752e-178e-4e59-af85-1405e060e977",
   "metadata": {},
   "outputs": [
    {
     "data": {
      "text/html": [
       "<div>\n",
       "<style scoped>\n",
       "    .dataframe tbody tr th:only-of-type {\n",
       "        vertical-align: middle;\n",
       "    }\n",
       "\n",
       "    .dataframe tbody tr th {\n",
       "        vertical-align: top;\n",
       "    }\n",
       "\n",
       "    .dataframe thead th {\n",
       "        text-align: right;\n",
       "    }\n",
       "</style>\n",
       "<table border=\"1\" class=\"dataframe\">\n",
       "  <thead>\n",
       "    <tr style=\"text-align: right;\">\n",
       "      <th></th>\n",
       "      <th>TransactionID</th>\n",
       "      <th>TransactionDate</th>\n",
       "    </tr>\n",
       "  </thead>\n",
       "  <tbody>\n",
       "    <tr>\n",
       "      <th>0</th>\n",
       "      <td>1</td>\n",
       "      <td>2010-08-21</td>\n",
       "    </tr>\n",
       "    <tr>\n",
       "      <th>1</th>\n",
       "      <td>2</td>\n",
       "      <td>2011-05-26</td>\n",
       "    </tr>\n",
       "    <tr>\n",
       "      <th>2</th>\n",
       "      <td>3</td>\n",
       "      <td>2011-06-16</td>\n",
       "    </tr>\n",
       "    <tr>\n",
       "      <th>3</th>\n",
       "      <td>4</td>\n",
       "      <td>2012-08-26</td>\n",
       "    </tr>\n",
       "    <tr>\n",
       "      <th>4</th>\n",
       "      <td>5</td>\n",
       "      <td>2013-06-06</td>\n",
       "    </tr>\n",
       "    <tr>\n",
       "      <th>5</th>\n",
       "      <td>6</td>\n",
       "      <td>2013-12-23</td>\n",
       "    </tr>\n",
       "    <tr>\n",
       "      <th>6</th>\n",
       "      <td>7</td>\n",
       "      <td>2013-12-30</td>\n",
       "    </tr>\n",
       "    <tr>\n",
       "      <th>7</th>\n",
       "      <td>8</td>\n",
       "      <td>2014-04-24</td>\n",
       "    </tr>\n",
       "    <tr>\n",
       "      <th>8</th>\n",
       "      <td>9</td>\n",
       "      <td>2015-04-24</td>\n",
       "    </tr>\n",
       "    <tr>\n",
       "      <th>9</th>\n",
       "      <td>10</td>\n",
       "      <td>2016-05-08</td>\n",
       "    </tr>\n",
       "  </tbody>\n",
       "</table>\n",
       "</div>"
      ],
      "text/plain": [
       "   TransactionID TransactionDate\n",
       "0              1      2010-08-21\n",
       "1              2      2011-05-26\n",
       "2              3      2011-06-16\n",
       "3              4      2012-08-26\n",
       "4              5      2013-06-06\n",
       "5              6      2013-12-23\n",
       "6              7      2013-12-30\n",
       "7              8      2014-04-24\n",
       "8              9      2015-04-24\n",
       "9             10      2016-05-08"
      ]
     },
     "execution_count": 58,
     "metadata": {},
     "output_type": "execute_result"
    }
   ],
   "source": [
    "#33. Subset columns by a variable list of column names\n",
    "columns_list = [\"TransactionID\", \"TransactionDate\"]\n",
    "df[columns_list]\n"
   ]
  },
  {
   "cell_type": "code",
   "execution_count": 59,
   "id": "f098bdf4-19dc-4d8e-aaff-807b25160cbe",
   "metadata": {},
   "outputs": [
    {
     "data": {
      "text/html": [
       "<div>\n",
       "<style scoped>\n",
       "    .dataframe tbody tr th:only-of-type {\n",
       "        vertical-align: middle;\n",
       "    }\n",
       "\n",
       "    .dataframe tbody tr th {\n",
       "        vertical-align: top;\n",
       "    }\n",
       "\n",
       "    .dataframe thead th {\n",
       "        text-align: right;\n",
       "    }\n",
       "</style>\n",
       "<table border=\"1\" class=\"dataframe\">\n",
       "  <thead>\n",
       "    <tr style=\"text-align: right;\">\n",
       "      <th></th>\n",
       "      <th>UID</th>\n",
       "      <th>pid</th>\n",
       "      <th>Quantity</th>\n",
       "    </tr>\n",
       "  </thead>\n",
       "  <tbody>\n",
       "    <tr>\n",
       "      <th>0</th>\n",
       "      <td>7.0</td>\n",
       "      <td>2</td>\n",
       "      <td>1</td>\n",
       "    </tr>\n",
       "    <tr>\n",
       "      <th>1</th>\n",
       "      <td>3.0</td>\n",
       "      <td>4</td>\n",
       "      <td>1</td>\n",
       "    </tr>\n",
       "    <tr>\n",
       "      <th>2</th>\n",
       "      <td>3.0</td>\n",
       "      <td>3</td>\n",
       "      <td>1</td>\n",
       "    </tr>\n",
       "    <tr>\n",
       "      <th>3</th>\n",
       "      <td>1.0</td>\n",
       "      <td>2</td>\n",
       "      <td>3</td>\n",
       "    </tr>\n",
       "    <tr>\n",
       "      <th>4</th>\n",
       "      <td>2.0</td>\n",
       "      <td>4</td>\n",
       "      <td>1</td>\n",
       "    </tr>\n",
       "    <tr>\n",
       "      <th>5</th>\n",
       "      <td>2.0</td>\n",
       "      <td>5</td>\n",
       "      <td>6</td>\n",
       "    </tr>\n",
       "    <tr>\n",
       "      <th>6</th>\n",
       "      <td>3.0</td>\n",
       "      <td>4</td>\n",
       "      <td>1</td>\n",
       "    </tr>\n",
       "    <tr>\n",
       "      <th>7</th>\n",
       "      <td>NaN</td>\n",
       "      <td>2</td>\n",
       "      <td>3</td>\n",
       "    </tr>\n",
       "    <tr>\n",
       "      <th>8</th>\n",
       "      <td>7.0</td>\n",
       "      <td>4</td>\n",
       "      <td>3</td>\n",
       "    </tr>\n",
       "    <tr>\n",
       "      <th>9</th>\n",
       "      <td>3.0</td>\n",
       "      <td>4</td>\n",
       "      <td>4</td>\n",
       "    </tr>\n",
       "  </tbody>\n",
       "</table>\n",
       "</div>"
      ],
      "text/plain": [
       "   UID  pid  Quantity\n",
       "0  7.0    2         1\n",
       "1  3.0    4         1\n",
       "2  3.0    3         1\n",
       "3  1.0    2         3\n",
       "4  2.0    4         1\n",
       "5  2.0    5         6\n",
       "6  3.0    4         1\n",
       "7  NaN    2         3\n",
       "8  7.0    4         3\n",
       "9  3.0    4         4"
      ]
     },
     "execution_count": 59,
     "metadata": {},
     "output_type": "execute_result"
    }
   ],
   "source": [
    "#34. Subset columns excluding a variable list of column names\n",
    "columns_to_exclude = [\"TransactionID\", \"TransactionDate\"]\n",
    "df.drop(columns=columns_to_exclude, axis=1)\n"
   ]
  },
  {
   "cell_type": "code",
   "execution_count": 6,
   "id": "460a2a37-44d5-488f-86be-d28f4b4ae7c5",
   "metadata": {},
   "outputs": [
    {
     "name": "stdout",
     "output_type": "stream",
     "text": [
      "TransactionID               int64\n",
      "TransactionDate    datetime64[ns]\n",
      "UserID                    float64\n",
      "ProductID                   int64\n",
      "Quantity                    int64\n",
      "dtype: object\n"
     ]
    }
   ],
   "source": [
    "#36. Convert the TransactionDate column to type Date\n",
    "df['TransactionDate'] = pd.to_datetime(df['TransactionDate'])\n",
    "print(df.dtypes)"
   ]
  },
  {
   "cell_type": "code",
   "execution_count": 17,
   "id": "bee7d053-bb3e-42f4-8bda-418922f9e8ba",
   "metadata": {},
   "outputs": [
    {
     "name": "stdout",
     "output_type": "stream",
     "text": [
      "   TransactionID TransactionDate  UserID  ProductID  Quantity\n",
      "0              1      2010-08-21     7.0          2         1\n",
      "1              2      2011-05-26     3.0          4         1\n",
      "2              3      2011-06-16     3.0          3         1\n",
      "3              4      2012-08-26     1.0          2         3\n",
      "4              5      2013-06-06     2.0          4         3\n",
      "5              6      2013-12-23     2.0          5         3\n",
      "6              7      2013-12-30     3.0          4         1\n",
      "7              8      2014-04-24     NaN          2         3\n",
      "8              9      2015-04-24     7.0          4         3\n",
      "9             10      2016-05-08     3.0          4         4\n"
     ]
    }
   ],
   "source": [
    " #35.Inserting and updating values\n",
    "df.loc[df['UserID'] == 2, 'Quantity'] = 3\n",
    "print(df)"
   ]
  },
  {
   "cell_type": "code",
   "execution_count": 19,
   "id": "ecf25f2f-f6d1-4f1c-9bc7-dcc5f47ea695",
   "metadata": {},
   "outputs": [
    {
     "name": "stdout",
     "output_type": "stream",
     "text": [
      "   TransactionID TransactionDate  UserID  ProductID  Quantity  Foo\n",
      "0              1      2010-08-21     7.0          2         1  9.0\n",
      "1              2      2011-05-26     3.0          4         1  7.0\n",
      "2              3      2011-06-16     3.0          3         1  6.0\n",
      "3              4      2012-08-26     1.0          2         3  3.0\n",
      "4              5      2013-06-06     2.0          4         3  6.0\n"
     ]
    }
   ],
   "source": [
    "#37 Insert a new column, Foo=UserID+ProductID\n",
    "df['Foo'] = df['UserID'] + df['ProductID']\n",
    "print(df.head())"
   ]
  },
  {
   "cell_type": "code",
   "execution_count": null,
   "id": "475f5b4b-8073-4aae-b741-bb570671f85b",
   "metadata": {},
   "outputs": [],
   "source": []
  }
 ],
 "metadata": {
  "kernelspec": {
   "display_name": "Python 3 (ipykernel)",
   "language": "python",
   "name": "python3"
  },
  "language_info": {
   "codemirror_mode": {
    "name": "ipython",
    "version": 3
   },
   "file_extension": ".py",
   "mimetype": "text/x-python",
   "name": "python",
   "nbconvert_exporter": "python",
   "pygments_lexer": "ipython3",
   "version": "3.11.7"
  }
 },
 "nbformat": 4,
 "nbformat_minor": 5
}
